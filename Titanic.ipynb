{
  "nbformat": 4,
  "nbformat_minor": 0,
  "metadata": {
    "colab": {
      "name": "Titanic.ipynb",
      "provenance": [],
      "collapsed_sections": [
        "_AnxPe2mVo68",
        "j1ltnPl_KpQ2",
        "5KR6X3D_MYsW",
        "ii85K6h9hX0P"
      ]
    },
    "kernelspec": {
      "name": "python3",
      "display_name": "Python 3"
    },
    "language_info": {
      "name": "python"
    }
  },
  "cells": [
    {
      "cell_type": "markdown",
      "metadata": {
        "id": "P0vtl8WzEYd8"
      },
      "source": [
        "# Análise de Dados Exploratória do Titanic"
      ]
    },
    {
      "cell_type": "markdown",
      "metadata": {
        "id": "V7yLDWLEOCz5"
      },
      "source": [
        "# 1. Introdução\n",
        "O RMS Titanic foi um navio de passageiros britânico operado pela empresa White Star Line que afundou no Oceano Atlântico Norte nas primeiras horas da manhã de 15 de abril de 1912, depois de atingir um iceberg durante sua viagem inaugural de Southampton a Nova York. Dos 2.224 passageiros e tripulantes a bordo, mais de 1.500 morreram, tornando o naufrágio um dos desastres marítimos comerciais mais mortais da história moderna em tempos de paz.\n",
        "\n",
        "Neste estudo iremos explorar um conjunto de dados baseado na lista de passageiros do Titanic editada por Michael A. Findlay, publicada originalmente em Eaton & Haas (1994) Titanic: Triumph and Tragedy, Patrick Stephens Ltd, e expandida com a ajuda da comunidade da Internet. Os arquivos HTML originais foram obtidos por Philip Hind (1999) e o dataset descreve o status de sobrevivência de passageiros individuais no Titanic. Ele não contém informações para a tripulação, mas contém idades atuais e estimadas para quase 80% dos passageiros."
      ]
    },
    {
      "cell_type": "markdown",
      "metadata": {
        "id": "pFiCGT2eOQFx"
      },
      "source": [
        "## 1.1 Objetivos\n",
        "O objetivo deste estudo é realizar uma Análise Exploratória dos Dados (Exploratory Data Analysis - EDA) do conjunto de dados titanic3, adaptado pelo autor e disponível em [data/titanic3.csv](https://github.com/profdiegoaugusto/analise-dados/blob/master/Pandas/titanic-eda/data/titanic3.csv) ; a fim de caracterizar o perfil dos sobreviventes do fatídico naufrágio. Especificiamente serão respondidas as seguintes questões de pesquisa:\n",
        "\n",
        "1.   Qual é o número de Sobreviventes?\n",
        "2.   Homens ou mulheres tiveram mais chances de sobreviver?\n",
        "3.   Qual classe social teve mais sobreviventes?\n",
        "4.   Qual faixa etária teve mais chances de sobreviver?\n"
      ]
    },
    {
      "cell_type": "markdown",
      "metadata": {
        "id": "Y2nxoB78PDzg"
      },
      "source": [
        "# 2. Metodologia\n",
        "Nesta seção será apresentado todo o processo de preparação, organização e limpeza de dados feito no dataset que possui os seguintes dados:"
      ]
    },
    {
      "cell_type": "markdown",
      "metadata": {
        "id": "2KU_gBkwKlZT"
      },
      "source": [
        "## 2.1. Configuração do Ambiente"
      ]
    },
    {
      "cell_type": "code",
      "metadata": {
        "id": "nDHAme-cEddv"
      },
      "source": [
        "import pandas as pd"
      ],
      "execution_count": 1,
      "outputs": []
    },
    {
      "cell_type": "markdown",
      "metadata": {
        "id": "_AnxPe2mVo68"
      },
      "source": [
        "## 2.2. Leitura dos Dados"
      ]
    },
    {
      "cell_type": "code",
      "metadata": {
        "id": "boafyUmBVQZX"
      },
      "source": [
        "url = 'https://github.com/profdiegoaugusto/analise-dados/blob/master/Pandas/titanic-eda/data/titanic3.csv'\n",
        "dados_brutos = pd.read_html(url)"
      ],
      "execution_count": 2,
      "outputs": []
    },
    {
      "cell_type": "code",
      "metadata": {
        "colab": {
          "base_uri": "https://localhost:8080/"
        },
        "id": "SgiPbXZqWILH",
        "outputId": "f845380b-ec9c-4ab6-9b86-351f23e0ae78"
      },
      "source": [
        "#Passando para dataframe e excluindo coluna Unnamed\n",
        "dados_brutos = dados_brutos[0]\n",
        "dados_brutos.pop(\"Unnamed: 0\")"
      ],
      "execution_count": 3,
      "outputs": [
        {
          "output_type": "execute_result",
          "data": {
            "text/plain": [
              "0      NaN\n",
              "1      NaN\n",
              "2      NaN\n",
              "3      NaN\n",
              "4      NaN\n",
              "        ..\n",
              "1304   NaN\n",
              "1305   NaN\n",
              "1306   NaN\n",
              "1307   NaN\n",
              "1308   NaN\n",
              "Name: Unnamed: 0, Length: 1309, dtype: float64"
            ]
          },
          "metadata": {},
          "execution_count": 3
        }
      ]
    },
    {
      "cell_type": "markdown",
      "metadata": {
        "id": "j1ltnPl_KpQ2"
      },
      "source": [
        "## 2.3. Organização e Limpeza dos Dados"
      ]
    },
    {
      "cell_type": "markdown",
      "metadata": {
        "id": "IFvyXiAHK7yQ"
      },
      "source": [
        "### 2.3.1. Visão Geral do Conjunto de Dados"
      ]
    },
    {
      "cell_type": "code",
      "metadata": {
        "colab": {
          "base_uri": "https://localhost:8080/",
          "height": 0
        },
        "id": "L0gL1KlTFAK1",
        "outputId": "c455b273-c095-44ea-e85b-2a6afd878854"
      },
      "source": [
        "dados_brutos.describe().transpose()"
      ],
      "execution_count": 4,
      "outputs": [
        {
          "output_type": "execute_result",
          "data": {
            "text/html": [
              "<div>\n",
              "<style scoped>\n",
              "    .dataframe tbody tr th:only-of-type {\n",
              "        vertical-align: middle;\n",
              "    }\n",
              "\n",
              "    .dataframe tbody tr th {\n",
              "        vertical-align: top;\n",
              "    }\n",
              "\n",
              "    .dataframe thead th {\n",
              "        text-align: right;\n",
              "    }\n",
              "</style>\n",
              "<table border=\"1\" class=\"dataframe\">\n",
              "  <thead>\n",
              "    <tr style=\"text-align: right;\">\n",
              "      <th></th>\n",
              "      <th>count</th>\n",
              "      <th>mean</th>\n",
              "      <th>std</th>\n",
              "      <th>min</th>\n",
              "      <th>25%</th>\n",
              "      <th>50%</th>\n",
              "      <th>75%</th>\n",
              "      <th>max</th>\n",
              "    </tr>\n",
              "  </thead>\n",
              "  <tbody>\n",
              "    <tr>\n",
              "      <th>id_passageiro</th>\n",
              "      <td>1309.0</td>\n",
              "      <td>655.000000</td>\n",
              "      <td>378.020061</td>\n",
              "      <td>1.0</td>\n",
              "      <td>328.0000</td>\n",
              "      <td>655.0000</td>\n",
              "      <td>982.000</td>\n",
              "      <td>1309.0000</td>\n",
              "    </tr>\n",
              "    <tr>\n",
              "      <th>classe</th>\n",
              "      <td>1309.0</td>\n",
              "      <td>2.294882</td>\n",
              "      <td>0.837836</td>\n",
              "      <td>1.0</td>\n",
              "      <td>2.0000</td>\n",
              "      <td>3.0000</td>\n",
              "      <td>3.000</td>\n",
              "      <td>3.0000</td>\n",
              "    </tr>\n",
              "    <tr>\n",
              "      <th>sobreviveu</th>\n",
              "      <td>1309.0</td>\n",
              "      <td>0.381971</td>\n",
              "      <td>0.486055</td>\n",
              "      <td>0.0</td>\n",
              "      <td>0.0000</td>\n",
              "      <td>0.0000</td>\n",
              "      <td>1.000</td>\n",
              "      <td>1.0000</td>\n",
              "    </tr>\n",
              "    <tr>\n",
              "      <th>idade</th>\n",
              "      <td>1046.0</td>\n",
              "      <td>29.897706</td>\n",
              "      <td>14.414973</td>\n",
              "      <td>0.0</td>\n",
              "      <td>21.0000</td>\n",
              "      <td>28.0000</td>\n",
              "      <td>39.000</td>\n",
              "      <td>80.0000</td>\n",
              "    </tr>\n",
              "    <tr>\n",
              "      <th>irmaos_conjuges</th>\n",
              "      <td>1309.0</td>\n",
              "      <td>0.498854</td>\n",
              "      <td>1.041658</td>\n",
              "      <td>0.0</td>\n",
              "      <td>0.0000</td>\n",
              "      <td>0.0000</td>\n",
              "      <td>1.000</td>\n",
              "      <td>8.0000</td>\n",
              "    </tr>\n",
              "    <tr>\n",
              "      <th>pais_filhos</th>\n",
              "      <td>1309.0</td>\n",
              "      <td>0.385027</td>\n",
              "      <td>0.865560</td>\n",
              "      <td>0.0</td>\n",
              "      <td>0.0000</td>\n",
              "      <td>0.0000</td>\n",
              "      <td>0.000</td>\n",
              "      <td>9.0000</td>\n",
              "    </tr>\n",
              "    <tr>\n",
              "      <th>tarifa</th>\n",
              "      <td>1308.0</td>\n",
              "      <td>33.295479</td>\n",
              "      <td>51.758668</td>\n",
              "      <td>0.0</td>\n",
              "      <td>7.8958</td>\n",
              "      <td>14.4542</td>\n",
              "      <td>31.275</td>\n",
              "      <td>512.3292</td>\n",
              "    </tr>\n",
              "    <tr>\n",
              "      <th>corpo</th>\n",
              "      <td>121.0</td>\n",
              "      <td>160.809917</td>\n",
              "      <td>97.696922</td>\n",
              "      <td>1.0</td>\n",
              "      <td>72.0000</td>\n",
              "      <td>155.0000</td>\n",
              "      <td>256.000</td>\n",
              "      <td>328.0000</td>\n",
              "    </tr>\n",
              "  </tbody>\n",
              "</table>\n",
              "</div>"
            ],
            "text/plain": [
              "                  count        mean         std  ...       50%      75%        max\n",
              "id_passageiro    1309.0  655.000000  378.020061  ...  655.0000  982.000  1309.0000\n",
              "classe           1309.0    2.294882    0.837836  ...    3.0000    3.000     3.0000\n",
              "sobreviveu       1309.0    0.381971    0.486055  ...    0.0000    1.000     1.0000\n",
              "idade            1046.0   29.897706   14.414973  ...   28.0000   39.000    80.0000\n",
              "irmaos_conjuges  1309.0    0.498854    1.041658  ...    0.0000    1.000     8.0000\n",
              "pais_filhos      1309.0    0.385027    0.865560  ...    0.0000    0.000     9.0000\n",
              "tarifa           1308.0   33.295479   51.758668  ...   14.4542   31.275   512.3292\n",
              "corpo             121.0  160.809917   97.696922  ...  155.0000  256.000   328.0000\n",
              "\n",
              "[8 rows x 8 columns]"
            ]
          },
          "metadata": {},
          "execution_count": 4
        }
      ]
    },
    {
      "cell_type": "code",
      "metadata": {
        "colab": {
          "base_uri": "https://localhost:8080/"
        },
        "id": "JdHIuQLyQPLx",
        "outputId": "afd14d80-aac3-472a-d9fb-265a989bb8f4"
      },
      "source": [
        "dados_brutos.dtypes"
      ],
      "execution_count": 5,
      "outputs": [
        {
          "output_type": "execute_result",
          "data": {
            "text/plain": [
              "id_passageiro        int64\n",
              "classe               int64\n",
              "sobreviveu           int64\n",
              "nome                object\n",
              "sexo                object\n",
              "idade              float64\n",
              "irmaos_conjuges      int64\n",
              "pais_filhos          int64\n",
              "bilhete             object\n",
              "tarifa             float64\n",
              "cabine              object\n",
              "embarque            object\n",
              "bote                object\n",
              "corpo              float64\n",
              "destino             object\n",
              "dtype: object"
            ]
          },
          "metadata": {},
          "execution_count": 5
        }
      ]
    },
    {
      "cell_type": "code",
      "metadata": {
        "colab": {
          "base_uri": "https://localhost:8080/"
        },
        "id": "hye2wV8mQVvP",
        "outputId": "e06f4962-3511-448a-f712-412156069d44"
      },
      "source": [
        "dados_brutos.isnull().sum()"
      ],
      "execution_count": 6,
      "outputs": [
        {
          "output_type": "execute_result",
          "data": {
            "text/plain": [
              "id_passageiro         0\n",
              "classe                0\n",
              "sobreviveu            0\n",
              "nome                  0\n",
              "sexo                  0\n",
              "idade               263\n",
              "irmaos_conjuges       0\n",
              "pais_filhos           0\n",
              "bilhete               0\n",
              "tarifa                1\n",
              "cabine             1014\n",
              "embarque              2\n",
              "bote                823\n",
              "corpo              1188\n",
              "destino             564\n",
              "dtype: int64"
            ]
          },
          "metadata": {},
          "execution_count": 6
        }
      ]
    },
    {
      "cell_type": "markdown",
      "metadata": {
        "id": "LOwYhVymUdL-"
      },
      "source": [
        "### 2.3.2 Remoção de Colunas"
      ]
    },
    {
      "cell_type": "code",
      "metadata": {
        "id": "FN_4dYStLFqg"
      },
      "source": [
        "#Excluindo colunas NOME, BILHETE, CABINE, DESTINO, BOTE, CORPO\n",
        "df_titanic = dados_brutos.drop([\"nome\",\"bilhete\",\"cabine\",\"destino\",\"bote\",\"corpo\"], axis=1)"
      ],
      "execution_count": 7,
      "outputs": []
    },
    {
      "cell_type": "markdown",
      "metadata": {
        "id": "yEcKMJv_Lbx1"
      },
      "source": [
        "### 2.3.3. Dados Ausentes"
      ]
    },
    {
      "cell_type": "code",
      "metadata": {
        "colab": {
          "base_uri": "https://localhost:8080/"
        },
        "id": "mDrDbFQsFZh-",
        "outputId": "4fe34a8d-29ff-4d29-bc70-4cbd7910931c"
      },
      "source": [
        "print('dados nulos: {}'.format(df_titanic.isnull().sum().sum()))\n",
        "print(df_titanic.isnull().sum())"
      ],
      "execution_count": 8,
      "outputs": [
        {
          "output_type": "stream",
          "name": "stdout",
          "text": [
            "dados nulos: 266\n",
            "id_passageiro        0\n",
            "classe               0\n",
            "sobreviveu           0\n",
            "sexo                 0\n",
            "idade              263\n",
            "irmaos_conjuges      0\n",
            "pais_filhos          0\n",
            "tarifa               1\n",
            "embarque             2\n",
            "dtype: int64\n"
          ]
        }
      ]
    },
    {
      "cell_type": "markdown",
      "metadata": {
        "id": "HtRD3UcoMOvz"
      },
      "source": [
        "#### 2.3.3.1 Idades Ausentes"
      ]
    },
    {
      "cell_type": "code",
      "metadata": {
        "colab": {
          "base_uri": "https://localhost:8080/"
        },
        "id": "XfWHDbhIFefz",
        "outputId": "0f04d5d4-99e6-4a68-d72e-d61790e6c392"
      },
      "source": [
        "print('Idade NaN(Entrada): {}'.format(df_titanic['idade'].isnull().sum()))\n",
        "df_titanic[['idade']]  = df_titanic['idade'].fillna(df_titanic['idade'].mean())\n",
        "print('Idade NaN(Saida): {}'.format(df_titanic['idade'].isnull().sum()))\n",
        "df_titanic['idade'] = df_titanic['idade'].astype(int)"
      ],
      "execution_count": 9,
      "outputs": [
        {
          "output_type": "stream",
          "name": "stdout",
          "text": [
            "Idade NaN(Entrada): 263\n",
            "Idade NaN(Saida): 0\n"
          ]
        }
      ]
    },
    {
      "cell_type": "code",
      "metadata": {
        "colab": {
          "base_uri": "https://localhost:8080/"
        },
        "id": "3O5HkvMgeal6",
        "outputId": "fb162b25-edde-4516-faae-1fba54aea57d"
      },
      "source": [
        "df_titanic['idade'].unique()"
      ],
      "execution_count": 10,
      "outputs": [
        {
          "output_type": "execute_result",
          "data": {
            "text/plain": [
              "array([29,  1,  2, 30, 25, 48, 63, 39, 53, 71, 47, 18, 24, 26, 80, 50, 32,\n",
              "       36, 37, 42, 19, 35, 28, 45, 40, 58, 22, 41, 44, 59, 60, 33, 17, 11,\n",
              "       14, 49, 76, 46, 27, 64, 55, 70, 38, 51, 31,  4, 54, 23, 43, 52, 16,\n",
              "       21, 15, 65, 56, 13, 61, 34,  6, 57, 62, 67, 12, 20,  8,  7,  3,  5,\n",
              "       66,  9,  0, 10, 74])"
            ]
          },
          "metadata": {},
          "execution_count": 10
        }
      ]
    },
    {
      "cell_type": "markdown",
      "metadata": {
        "id": "5KR6X3D_MYsW"
      },
      "source": [
        "#### 2.3.3.2 Tarifas Ausentes"
      ]
    },
    {
      "cell_type": "code",
      "metadata": {
        "colab": {
          "base_uri": "https://localhost:8080/",
          "height": 0
        },
        "id": "hNQjagkeF2AO",
        "outputId": "2a205a1a-909c-4d83-f319-607b20abd287"
      },
      "source": [
        "print('Falta Tarifa')\n",
        "df_titanic[df_titanic['tarifa'].isnull()]"
      ],
      "execution_count": 11,
      "outputs": [
        {
          "output_type": "stream",
          "name": "stdout",
          "text": [
            "Falta Tarifa\n"
          ]
        },
        {
          "output_type": "execute_result",
          "data": {
            "text/html": [
              "<div>\n",
              "<style scoped>\n",
              "    .dataframe tbody tr th:only-of-type {\n",
              "        vertical-align: middle;\n",
              "    }\n",
              "\n",
              "    .dataframe tbody tr th {\n",
              "        vertical-align: top;\n",
              "    }\n",
              "\n",
              "    .dataframe thead th {\n",
              "        text-align: right;\n",
              "    }\n",
              "</style>\n",
              "<table border=\"1\" class=\"dataframe\">\n",
              "  <thead>\n",
              "    <tr style=\"text-align: right;\">\n",
              "      <th></th>\n",
              "      <th>id_passageiro</th>\n",
              "      <th>classe</th>\n",
              "      <th>sobreviveu</th>\n",
              "      <th>sexo</th>\n",
              "      <th>idade</th>\n",
              "      <th>irmaos_conjuges</th>\n",
              "      <th>pais_filhos</th>\n",
              "      <th>tarifa</th>\n",
              "      <th>embarque</th>\n",
              "    </tr>\n",
              "  </thead>\n",
              "  <tbody>\n",
              "    <tr>\n",
              "      <th>1225</th>\n",
              "      <td>1226</td>\n",
              "      <td>3</td>\n",
              "      <td>0</td>\n",
              "      <td>male</td>\n",
              "      <td>61</td>\n",
              "      <td>0</td>\n",
              "      <td>0</td>\n",
              "      <td>NaN</td>\n",
              "      <td>S</td>\n",
              "    </tr>\n",
              "  </tbody>\n",
              "</table>\n",
              "</div>"
            ],
            "text/plain": [
              "      id_passageiro  classe  sobreviveu  ... pais_filhos  tarifa  embarque\n",
              "1225           1226       3           0  ...           0     NaN         S\n",
              "\n",
              "[1 rows x 9 columns]"
            ]
          },
          "metadata": {},
          "execution_count": 11
        }
      ]
    },
    {
      "cell_type": "code",
      "metadata": {
        "colab": {
          "base_uri": "https://localhost:8080/"
        },
        "id": "BLvhKPHAGdTI",
        "outputId": "ab4c7d35-a3ee-4ee4-a13a-afb062caba8d"
      },
      "source": [
        "tarifas = df_titanic[(df_titanic['classe'] == 3)  & (df_titanic['sexo'] == 'male') & (df_titanic['idade'] >= 50) & (df_titanic['irmaos_conjuges'] == 0)  & (df_titanic['embarque'] == 'S')]\n",
        "print('Passageiros com dados (Classe, Sexo, Idade, Embarque) semelhantes ao faltante: {}'.format(len(tarifas)))"
      ],
      "execution_count": 12,
      "outputs": [
        {
          "output_type": "stream",
          "name": "stdout",
          "text": [
            "Passageiros com dados (Classe, Sexo, Idade, Embarque) semelhantes ao faltante: 9\n"
          ]
        }
      ]
    },
    {
      "cell_type": "code",
      "metadata": {
        "id": "B1L0nNtPHKUi"
      },
      "source": [
        "df_titanic['tarifa'] = df_titanic['tarifa'].fillna(tarifas['tarifa'].mean())"
      ],
      "execution_count": 13,
      "outputs": []
    },
    {
      "cell_type": "code",
      "metadata": {
        "colab": {
          "base_uri": "https://localhost:8080/",
          "height": 0
        },
        "id": "2UVEh-i3O1ww",
        "outputId": "4a055e81-5ef1-4c39-838c-de6a7b302912"
      },
      "source": [
        "df_titanic.loc[df_titanic['id_passageiro'] == 1225]"
      ],
      "execution_count": 14,
      "outputs": [
        {
          "output_type": "execute_result",
          "data": {
            "text/html": [
              "<div>\n",
              "<style scoped>\n",
              "    .dataframe tbody tr th:only-of-type {\n",
              "        vertical-align: middle;\n",
              "    }\n",
              "\n",
              "    .dataframe tbody tr th {\n",
              "        vertical-align: top;\n",
              "    }\n",
              "\n",
              "    .dataframe thead th {\n",
              "        text-align: right;\n",
              "    }\n",
              "</style>\n",
              "<table border=\"1\" class=\"dataframe\">\n",
              "  <thead>\n",
              "    <tr style=\"text-align: right;\">\n",
              "      <th></th>\n",
              "      <th>id_passageiro</th>\n",
              "      <th>classe</th>\n",
              "      <th>sobreviveu</th>\n",
              "      <th>sexo</th>\n",
              "      <th>idade</th>\n",
              "      <th>irmaos_conjuges</th>\n",
              "      <th>pais_filhos</th>\n",
              "      <th>tarifa</th>\n",
              "      <th>embarque</th>\n",
              "    </tr>\n",
              "  </thead>\n",
              "  <tbody>\n",
              "    <tr>\n",
              "      <th>1224</th>\n",
              "      <td>1225</td>\n",
              "      <td>3</td>\n",
              "      <td>0</td>\n",
              "      <td>male</td>\n",
              "      <td>21</td>\n",
              "      <td>0</td>\n",
              "      <td>0</td>\n",
              "      <td>8.05</td>\n",
              "      <td>S</td>\n",
              "    </tr>\n",
              "  </tbody>\n",
              "</table>\n",
              "</div>"
            ],
            "text/plain": [
              "      id_passageiro  classe  sobreviveu  ... pais_filhos  tarifa  embarque\n",
              "1224           1225       3           0  ...           0    8.05         S\n",
              "\n",
              "[1 rows x 9 columns]"
            ]
          },
          "metadata": {},
          "execution_count": 14
        }
      ]
    },
    {
      "cell_type": "markdown",
      "metadata": {
        "id": "S5TkyORLRmxu"
      },
      "source": [
        "#### 2.3.3.3 Portos de Embarque Ausentes"
      ]
    },
    {
      "cell_type": "code",
      "metadata": {
        "id": "z9JGDetwRoNq"
      },
      "source": [
        "#Excluindo embarques com NaN\n",
        "df_titanic = df_titanic[df_titanic['embarque'].notna()]"
      ],
      "execution_count": 15,
      "outputs": []
    },
    {
      "cell_type": "markdown",
      "metadata": {
        "id": "ii85K6h9hX0P"
      },
      "source": [
        "#### Dados Ausentes"
      ]
    },
    {
      "cell_type": "code",
      "metadata": {
        "colab": {
          "base_uri": "https://localhost:8080/"
        },
        "id": "jOGAb8EPhcsZ",
        "outputId": "f5c920e0-f6c8-4b99-f4aa-aa30401a5ec3"
      },
      "source": [
        "print('dados nulos: {}'.format(df_titanic.isnull().sum().sum()))\n",
        "print(df_titanic.isnull().sum())"
      ],
      "execution_count": 16,
      "outputs": [
        {
          "output_type": "stream",
          "name": "stdout",
          "text": [
            "dados nulos: 0\n",
            "id_passageiro      0\n",
            "classe             0\n",
            "sobreviveu         0\n",
            "sexo               0\n",
            "idade              0\n",
            "irmaos_conjuges    0\n",
            "pais_filhos        0\n",
            "tarifa             0\n",
            "embarque           0\n",
            "dtype: int64\n"
          ]
        }
      ]
    },
    {
      "cell_type": "markdown",
      "metadata": {
        "id": "Pd5AW6Bah1MH"
      },
      "source": [
        "## 2.4 Mapeamento de Dados"
      ]
    },
    {
      "cell_type": "code",
      "metadata": {
        "id": "FPEBthk4h7xu"
      },
      "source": [
        "def modificado(coluna,origem):\n",
        "    modificado = []\n",
        "    if coluna == 'Classe':\n",
        "        for coluna in origem:\n",
        "            if coluna == 1:\n",
        "                modificado.append('Alta')\n",
        "            elif coluna == 2:\n",
        "                modificado.append('Média')\n",
        "            else:\n",
        "                modificado.append('Baixa')\n",
        "        return modificado\n",
        "    elif coluna == 'Sexo':\n",
        "        for coluna in origem:\n",
        "            if coluna == 'male':\n",
        "                modificado.append('M')\n",
        "            else :\n",
        "                modificado.append('F')\n",
        "        return modificado\n",
        "    else:\n",
        "        for coluna in origem:\n",
        "            if coluna == 'C':\n",
        "                modificado.append('Cherbourg')\n",
        "            elif coluna == 'Q':\n",
        "                modificado.append('Queenstown')\n",
        "            else:\n",
        "                modificado.append('Southampton')\n",
        "        return modificado\n",
        "\n",
        "df_titanic['classe'] = modificado('Classe',df_titanic['classe'])\n",
        "df_titanic['sexo'] = modificado('Sexo',df_titanic['sexo'])\n",
        "df_titanic['embarque'] = modificado('Embarque',df_titanic['embarque'])"
      ],
      "execution_count": 17,
      "outputs": []
    },
    {
      "cell_type": "code",
      "metadata": {
        "colab": {
          "base_uri": "https://localhost:8080/",
          "height": 363
        },
        "id": "xt5iGAlXnR3f",
        "outputId": "68dc3b94-19f5-4ea2-ce68-7e31f780a940"
      },
      "source": [
        "df_titanic.sample(10)"
      ],
      "execution_count": 18,
      "outputs": [
        {
          "output_type": "execute_result",
          "data": {
            "text/html": [
              "<div>\n",
              "<style scoped>\n",
              "    .dataframe tbody tr th:only-of-type {\n",
              "        vertical-align: middle;\n",
              "    }\n",
              "\n",
              "    .dataframe tbody tr th {\n",
              "        vertical-align: top;\n",
              "    }\n",
              "\n",
              "    .dataframe thead th {\n",
              "        text-align: right;\n",
              "    }\n",
              "</style>\n",
              "<table border=\"1\" class=\"dataframe\">\n",
              "  <thead>\n",
              "    <tr style=\"text-align: right;\">\n",
              "      <th></th>\n",
              "      <th>id_passageiro</th>\n",
              "      <th>classe</th>\n",
              "      <th>sobreviveu</th>\n",
              "      <th>sexo</th>\n",
              "      <th>idade</th>\n",
              "      <th>irmaos_conjuges</th>\n",
              "      <th>pais_filhos</th>\n",
              "      <th>tarifa</th>\n",
              "      <th>embarque</th>\n",
              "    </tr>\n",
              "  </thead>\n",
              "  <tbody>\n",
              "    <tr>\n",
              "      <th>1282</th>\n",
              "      <td>1283</td>\n",
              "      <td>Baixa</td>\n",
              "      <td>0</td>\n",
              "      <td>M</td>\n",
              "      <td>29</td>\n",
              "      <td>0</td>\n",
              "      <td>0</td>\n",
              "      <td>8.0500</td>\n",
              "      <td>Southampton</td>\n",
              "    </tr>\n",
              "    <tr>\n",
              "      <th>227</th>\n",
              "      <td>228</td>\n",
              "      <td>Alta</td>\n",
              "      <td>1</td>\n",
              "      <td>F</td>\n",
              "      <td>22</td>\n",
              "      <td>1</td>\n",
              "      <td>0</td>\n",
              "      <td>66.6000</td>\n",
              "      <td>Southampton</td>\n",
              "    </tr>\n",
              "    <tr>\n",
              "      <th>1058</th>\n",
              "      <td>1059</td>\n",
              "      <td>Baixa</td>\n",
              "      <td>0</td>\n",
              "      <td>F</td>\n",
              "      <td>29</td>\n",
              "      <td>0</td>\n",
              "      <td>0</td>\n",
              "      <td>7.9250</td>\n",
              "      <td>Southampton</td>\n",
              "    </tr>\n",
              "    <tr>\n",
              "      <th>923</th>\n",
              "      <td>924</td>\n",
              "      <td>Baixa</td>\n",
              "      <td>1</td>\n",
              "      <td>F</td>\n",
              "      <td>29</td>\n",
              "      <td>0</td>\n",
              "      <td>0</td>\n",
              "      <td>7.7500</td>\n",
              "      <td>Queenstown</td>\n",
              "    </tr>\n",
              "    <tr>\n",
              "      <th>1107</th>\n",
              "      <td>1108</td>\n",
              "      <td>Baixa</td>\n",
              "      <td>0</td>\n",
              "      <td>M</td>\n",
              "      <td>21</td>\n",
              "      <td>0</td>\n",
              "      <td>0</td>\n",
              "      <td>8.6625</td>\n",
              "      <td>Southampton</td>\n",
              "    </tr>\n",
              "    <tr>\n",
              "      <th>334</th>\n",
              "      <td>335</td>\n",
              "      <td>Média</td>\n",
              "      <td>0</td>\n",
              "      <td>M</td>\n",
              "      <td>28</td>\n",
              "      <td>0</td>\n",
              "      <td>0</td>\n",
              "      <td>10.5000</td>\n",
              "      <td>Southampton</td>\n",
              "    </tr>\n",
              "    <tr>\n",
              "      <th>450</th>\n",
              "      <td>451</td>\n",
              "      <td>Média</td>\n",
              "      <td>0</td>\n",
              "      <td>M</td>\n",
              "      <td>50</td>\n",
              "      <td>0</td>\n",
              "      <td>0</td>\n",
              "      <td>13.0000</td>\n",
              "      <td>Southampton</td>\n",
              "    </tr>\n",
              "    <tr>\n",
              "      <th>135</th>\n",
              "      <td>136</td>\n",
              "      <td>Alta</td>\n",
              "      <td>0</td>\n",
              "      <td>M</td>\n",
              "      <td>71</td>\n",
              "      <td>0</td>\n",
              "      <td>0</td>\n",
              "      <td>34.6542</td>\n",
              "      <td>Cherbourg</td>\n",
              "    </tr>\n",
              "    <tr>\n",
              "      <th>540</th>\n",
              "      <td>541</td>\n",
              "      <td>Média</td>\n",
              "      <td>1</td>\n",
              "      <td>F</td>\n",
              "      <td>2</td>\n",
              "      <td>1</td>\n",
              "      <td>1</td>\n",
              "      <td>26.0000</td>\n",
              "      <td>Southampton</td>\n",
              "    </tr>\n",
              "    <tr>\n",
              "      <th>546</th>\n",
              "      <td>547</td>\n",
              "      <td>Média</td>\n",
              "      <td>1</td>\n",
              "      <td>F</td>\n",
              "      <td>28</td>\n",
              "      <td>0</td>\n",
              "      <td>0</td>\n",
              "      <td>13.0000</td>\n",
              "      <td>Southampton</td>\n",
              "    </tr>\n",
              "  </tbody>\n",
              "</table>\n",
              "</div>"
            ],
            "text/plain": [
              "      id_passageiro classe  sobreviveu  ... pais_filhos   tarifa     embarque\n",
              "1282           1283  Baixa           0  ...           0   8.0500  Southampton\n",
              "227             228   Alta           1  ...           0  66.6000  Southampton\n",
              "1058           1059  Baixa           0  ...           0   7.9250  Southampton\n",
              "923             924  Baixa           1  ...           0   7.7500   Queenstown\n",
              "1107           1108  Baixa           0  ...           0   8.6625  Southampton\n",
              "334             335  Média           0  ...           0  10.5000  Southampton\n",
              "450             451  Média           0  ...           0  13.0000  Southampton\n",
              "135             136   Alta           0  ...           0  34.6542    Cherbourg\n",
              "540             541  Média           1  ...           1  26.0000  Southampton\n",
              "546             547  Média           1  ...           0  13.0000  Southampton\n",
              "\n",
              "[10 rows x 9 columns]"
            ]
          },
          "metadata": {},
          "execution_count": 18
        }
      ]
    },
    {
      "cell_type": "markdown",
      "metadata": {
        "id": "n6y7CW86ooX7"
      },
      "source": [
        "## 2.5. Feature Engineering"
      ]
    },
    {
      "cell_type": "markdown",
      "metadata": {
        "id": "In5bS2nkg0UP"
      },
      "source": [
        "### 2.5.1 Total de Parentes"
      ]
    },
    {
      "cell_type": "code",
      "metadata": {
        "id": "LXO366VHorEG"
      },
      "source": [
        "df_titanic['total_parentes'] = df_titanic['irmaos_conjuges'] + df_titanic['pais_filhos']"
      ],
      "execution_count": 19,
      "outputs": []
    },
    {
      "cell_type": "code",
      "metadata": {
        "colab": {
          "base_uri": "https://localhost:8080/"
        },
        "id": "ND5dYpuHg_7h",
        "outputId": "0cff8309-1bc9-48cf-eb43-cbfd52403f4c"
      },
      "source": [
        "df_titanic['total_parentes'].head()"
      ],
      "execution_count": 20,
      "outputs": [
        {
          "output_type": "execute_result",
          "data": {
            "text/plain": [
              "0    0\n",
              "1    3\n",
              "2    3\n",
              "3    3\n",
              "4    3\n",
              "Name: total_parentes, dtype: int64"
            ]
          },
          "metadata": {},
          "execution_count": 20
        }
      ]
    },
    {
      "cell_type": "markdown",
      "metadata": {
        "id": "MBNxzjT8g5Ws"
      },
      "source": [
        "### 2.5.2 Faixas Etárias"
      ]
    },
    {
      "cell_type": "code",
      "metadata": {
        "id": "8PdbxS8ig6sy"
      },
      "source": [
        "def faixa(df):\n",
        "    idade = []\n",
        "    for dados in df: \n",
        "        if dados <= 12:\n",
        "            idade.append('Criança')\n",
        "        elif (dados > 12) & (dados < 18):\n",
        "            idade.append('Adolecente')\n",
        "        elif (dados >= 18) & (dados < 60):\n",
        "            idade.append('Adulto')\n",
        "        else:\n",
        "            idade.append('Idoso')\n",
        "    return idade\n",
        "faixa = faixa(df_titanic['idade'])\n",
        "df_titanic['faixa_etaria'] = faixa"
      ],
      "execution_count": 21,
      "outputs": []
    },
    {
      "cell_type": "code",
      "metadata": {
        "colab": {
          "base_uri": "https://localhost:8080/",
          "height": 677
        },
        "id": "32ma004GKqqA",
        "outputId": "224cfe6c-71a8-4721-ea90-190ff4a0cbbd"
      },
      "source": [
        "df_titanic.sample(20)"
      ],
      "execution_count": 22,
      "outputs": [
        {
          "output_type": "execute_result",
          "data": {
            "text/html": [
              "<div>\n",
              "<style scoped>\n",
              "    .dataframe tbody tr th:only-of-type {\n",
              "        vertical-align: middle;\n",
              "    }\n",
              "\n",
              "    .dataframe tbody tr th {\n",
              "        vertical-align: top;\n",
              "    }\n",
              "\n",
              "    .dataframe thead th {\n",
              "        text-align: right;\n",
              "    }\n",
              "</style>\n",
              "<table border=\"1\" class=\"dataframe\">\n",
              "  <thead>\n",
              "    <tr style=\"text-align: right;\">\n",
              "      <th></th>\n",
              "      <th>id_passageiro</th>\n",
              "      <th>classe</th>\n",
              "      <th>sobreviveu</th>\n",
              "      <th>sexo</th>\n",
              "      <th>idade</th>\n",
              "      <th>irmaos_conjuges</th>\n",
              "      <th>pais_filhos</th>\n",
              "      <th>tarifa</th>\n",
              "      <th>embarque</th>\n",
              "      <th>total_parentes</th>\n",
              "      <th>faixa_etaria</th>\n",
              "    </tr>\n",
              "  </thead>\n",
              "  <tbody>\n",
              "    <tr>\n",
              "      <th>437</th>\n",
              "      <td>438</td>\n",
              "      <td>Média</td>\n",
              "      <td>1</td>\n",
              "      <td>F</td>\n",
              "      <td>24</td>\n",
              "      <td>1</td>\n",
              "      <td>2</td>\n",
              "      <td>65.0000</td>\n",
              "      <td>Southampton</td>\n",
              "      <td>3</td>\n",
              "      <td>Adulto</td>\n",
              "    </tr>\n",
              "    <tr>\n",
              "      <th>266</th>\n",
              "      <td>267</td>\n",
              "      <td>Alta</td>\n",
              "      <td>0</td>\n",
              "      <td>M</td>\n",
              "      <td>56</td>\n",
              "      <td>0</td>\n",
              "      <td>0</td>\n",
              "      <td>26.5500</td>\n",
              "      <td>Southampton</td>\n",
              "      <td>0</td>\n",
              "      <td>Adulto</td>\n",
              "    </tr>\n",
              "    <tr>\n",
              "      <th>907</th>\n",
              "      <td>908</td>\n",
              "      <td>Baixa</td>\n",
              "      <td>0</td>\n",
              "      <td>F</td>\n",
              "      <td>20</td>\n",
              "      <td>1</td>\n",
              "      <td>0</td>\n",
              "      <td>9.8250</td>\n",
              "      <td>Southampton</td>\n",
              "      <td>1</td>\n",
              "      <td>Adulto</td>\n",
              "    </tr>\n",
              "    <tr>\n",
              "      <th>843</th>\n",
              "      <td>844</td>\n",
              "      <td>Baixa</td>\n",
              "      <td>0</td>\n",
              "      <td>M</td>\n",
              "      <td>29</td>\n",
              "      <td>1</td>\n",
              "      <td>0</td>\n",
              "      <td>19.9667</td>\n",
              "      <td>Southampton</td>\n",
              "      <td>1</td>\n",
              "      <td>Adulto</td>\n",
              "    </tr>\n",
              "    <tr>\n",
              "      <th>1166</th>\n",
              "      <td>1167</td>\n",
              "      <td>Baixa</td>\n",
              "      <td>0</td>\n",
              "      <td>M</td>\n",
              "      <td>29</td>\n",
              "      <td>0</td>\n",
              "      <td>0</td>\n",
              "      <td>7.2250</td>\n",
              "      <td>Cherbourg</td>\n",
              "      <td>0</td>\n",
              "      <td>Adulto</td>\n",
              "    </tr>\n",
              "    <tr>\n",
              "      <th>309</th>\n",
              "      <td>310</td>\n",
              "      <td>Alta</td>\n",
              "      <td>1</td>\n",
              "      <td>F</td>\n",
              "      <td>31</td>\n",
              "      <td>0</td>\n",
              "      <td>2</td>\n",
              "      <td>164.8667</td>\n",
              "      <td>Southampton</td>\n",
              "      <td>2</td>\n",
              "      <td>Adulto</td>\n",
              "    </tr>\n",
              "    <tr>\n",
              "      <th>639</th>\n",
              "      <td>640</td>\n",
              "      <td>Baixa</td>\n",
              "      <td>0</td>\n",
              "      <td>M</td>\n",
              "      <td>5</td>\n",
              "      <td>4</td>\n",
              "      <td>2</td>\n",
              "      <td>31.3875</td>\n",
              "      <td>Southampton</td>\n",
              "      <td>6</td>\n",
              "      <td>Criança</td>\n",
              "    </tr>\n",
              "    <tr>\n",
              "      <th>1214</th>\n",
              "      <td>1215</td>\n",
              "      <td>Baixa</td>\n",
              "      <td>0</td>\n",
              "      <td>M</td>\n",
              "      <td>29</td>\n",
              "      <td>0</td>\n",
              "      <td>0</td>\n",
              "      <td>8.6625</td>\n",
              "      <td>Southampton</td>\n",
              "      <td>0</td>\n",
              "      <td>Adulto</td>\n",
              "    </tr>\n",
              "    <tr>\n",
              "      <th>1005</th>\n",
              "      <td>1006</td>\n",
              "      <td>Baixa</td>\n",
              "      <td>0</td>\n",
              "      <td>M</td>\n",
              "      <td>29</td>\n",
              "      <td>0</td>\n",
              "      <td>0</td>\n",
              "      <td>15.5000</td>\n",
              "      <td>Queenstown</td>\n",
              "      <td>0</td>\n",
              "      <td>Adulto</td>\n",
              "    </tr>\n",
              "    <tr>\n",
              "      <th>752</th>\n",
              "      <td>753</td>\n",
              "      <td>Baixa</td>\n",
              "      <td>0</td>\n",
              "      <td>M</td>\n",
              "      <td>24</td>\n",
              "      <td>2</td>\n",
              "      <td>0</td>\n",
              "      <td>24.1500</td>\n",
              "      <td>Southampton</td>\n",
              "      <td>2</td>\n",
              "      <td>Adulto</td>\n",
              "    </tr>\n",
              "    <tr>\n",
              "      <th>281</th>\n",
              "      <td>282</td>\n",
              "      <td>Alta</td>\n",
              "      <td>1</td>\n",
              "      <td>F</td>\n",
              "      <td>43</td>\n",
              "      <td>1</td>\n",
              "      <td>0</td>\n",
              "      <td>55.4417</td>\n",
              "      <td>Cherbourg</td>\n",
              "      <td>1</td>\n",
              "      <td>Adulto</td>\n",
              "    </tr>\n",
              "    <tr>\n",
              "      <th>442</th>\n",
              "      <td>443</td>\n",
              "      <td>Média</td>\n",
              "      <td>0</td>\n",
              "      <td>M</td>\n",
              "      <td>24</td>\n",
              "      <td>2</td>\n",
              "      <td>0</td>\n",
              "      <td>73.5000</td>\n",
              "      <td>Southampton</td>\n",
              "      <td>2</td>\n",
              "      <td>Adulto</td>\n",
              "    </tr>\n",
              "    <tr>\n",
              "      <th>1140</th>\n",
              "      <td>1141</td>\n",
              "      <td>Baixa</td>\n",
              "      <td>0</td>\n",
              "      <td>M</td>\n",
              "      <td>21</td>\n",
              "      <td>0</td>\n",
              "      <td>0</td>\n",
              "      <td>8.0500</td>\n",
              "      <td>Southampton</td>\n",
              "      <td>0</td>\n",
              "      <td>Adulto</td>\n",
              "    </tr>\n",
              "    <tr>\n",
              "      <th>17</th>\n",
              "      <td>18</td>\n",
              "      <td>Alta</td>\n",
              "      <td>1</td>\n",
              "      <td>F</td>\n",
              "      <td>50</td>\n",
              "      <td>0</td>\n",
              "      <td>1</td>\n",
              "      <td>247.5208</td>\n",
              "      <td>Cherbourg</td>\n",
              "      <td>1</td>\n",
              "      <td>Adulto</td>\n",
              "    </tr>\n",
              "    <tr>\n",
              "      <th>120</th>\n",
              "      <td>121</td>\n",
              "      <td>Alta</td>\n",
              "      <td>1</td>\n",
              "      <td>M</td>\n",
              "      <td>43</td>\n",
              "      <td>1</td>\n",
              "      <td>0</td>\n",
              "      <td>27.7208</td>\n",
              "      <td>Cherbourg</td>\n",
              "      <td>1</td>\n",
              "      <td>Adulto</td>\n",
              "    </tr>\n",
              "    <tr>\n",
              "      <th>299</th>\n",
              "      <td>300</td>\n",
              "      <td>Alta</td>\n",
              "      <td>0</td>\n",
              "      <td>M</td>\n",
              "      <td>40</td>\n",
              "      <td>0</td>\n",
              "      <td>0</td>\n",
              "      <td>27.7208</td>\n",
              "      <td>Cherbourg</td>\n",
              "      <td>0</td>\n",
              "      <td>Adulto</td>\n",
              "    </tr>\n",
              "    <tr>\n",
              "      <th>329</th>\n",
              "      <td>330</td>\n",
              "      <td>Média</td>\n",
              "      <td>1</td>\n",
              "      <td>F</td>\n",
              "      <td>36</td>\n",
              "      <td>1</td>\n",
              "      <td>0</td>\n",
              "      <td>26.0000</td>\n",
              "      <td>Southampton</td>\n",
              "      <td>1</td>\n",
              "      <td>Adulto</td>\n",
              "    </tr>\n",
              "    <tr>\n",
              "      <th>306</th>\n",
              "      <td>307</td>\n",
              "      <td>Alta</td>\n",
              "      <td>0</td>\n",
              "      <td>M</td>\n",
              "      <td>54</td>\n",
              "      <td>0</td>\n",
              "      <td>1</td>\n",
              "      <td>77.2875</td>\n",
              "      <td>Southampton</td>\n",
              "      <td>1</td>\n",
              "      <td>Adulto</td>\n",
              "    </tr>\n",
              "    <tr>\n",
              "      <th>514</th>\n",
              "      <td>515</td>\n",
              "      <td>Média</td>\n",
              "      <td>1</td>\n",
              "      <td>M</td>\n",
              "      <td>2</td>\n",
              "      <td>1</td>\n",
              "      <td>1</td>\n",
              "      <td>26.0000</td>\n",
              "      <td>Southampton</td>\n",
              "      <td>2</td>\n",
              "      <td>Criança</td>\n",
              "    </tr>\n",
              "    <tr>\n",
              "      <th>1187</th>\n",
              "      <td>1188</td>\n",
              "      <td>Baixa</td>\n",
              "      <td>1</td>\n",
              "      <td>F</td>\n",
              "      <td>1</td>\n",
              "      <td>1</td>\n",
              "      <td>1</td>\n",
              "      <td>16.7000</td>\n",
              "      <td>Southampton</td>\n",
              "      <td>2</td>\n",
              "      <td>Criança</td>\n",
              "    </tr>\n",
              "  </tbody>\n",
              "</table>\n",
              "</div>"
            ],
            "text/plain": [
              "      id_passageiro classe  ...  total_parentes faixa_etaria\n",
              "437             438  Média  ...               3       Adulto\n",
              "266             267   Alta  ...               0       Adulto\n",
              "907             908  Baixa  ...               1       Adulto\n",
              "843             844  Baixa  ...               1       Adulto\n",
              "1166           1167  Baixa  ...               0       Adulto\n",
              "309             310   Alta  ...               2       Adulto\n",
              "639             640  Baixa  ...               6      Criança\n",
              "1214           1215  Baixa  ...               0       Adulto\n",
              "1005           1006  Baixa  ...               0       Adulto\n",
              "752             753  Baixa  ...               2       Adulto\n",
              "281             282   Alta  ...               1       Adulto\n",
              "442             443  Média  ...               2       Adulto\n",
              "1140           1141  Baixa  ...               0       Adulto\n",
              "17               18   Alta  ...               1       Adulto\n",
              "120             121   Alta  ...               1       Adulto\n",
              "299             300   Alta  ...               0       Adulto\n",
              "329             330  Média  ...               1       Adulto\n",
              "306             307   Alta  ...               1       Adulto\n",
              "514             515  Média  ...               2      Criança\n",
              "1187           1188  Baixa  ...               2      Criança\n",
              "\n",
              "[20 rows x 11 columns]"
            ]
          },
          "metadata": {},
          "execution_count": 22
        }
      ]
    },
    {
      "cell_type": "markdown",
      "metadata": {
        "id": "fxU0O4gJhVin"
      },
      "source": [
        "# 3. Análise dos Dados"
      ]
    },
    {
      "cell_type": "markdown",
      "metadata": {
        "id": "wBbh2ygnhq17"
      },
      "source": [
        "## 3.1. Qual é o número de Sobreviventes?"
      ]
    },
    {
      "cell_type": "code",
      "metadata": {
        "id": "Yl4sF8L_61pq"
      },
      "source": [
        "df_sobrevivente = df_titanic.loc[(df_titanic['sobreviveu'] == 1 )]\n",
        "soma_sobrevivente = df_sobrevivente['sobreviveu'].sum()\n",
        "total_pessoas = df_titanic.shape[0]"
      ],
      "execution_count": 23,
      "outputs": []
    },
    {
      "cell_type": "code",
      "metadata": {
        "id": "QTZ5BMzEhs57",
        "colab": {
          "base_uri": "https://localhost:8080/"
        },
        "outputId": "43b4bca5-43b0-44f7-d606-799958e943e7"
      },
      "source": [
        "porcentagem = int(soma_sobrevivente*100/total_pessoas)\n",
        "print(f'Total de sobreviventes: {soma_sobrevivente} ({porcentagem}%)')"
      ],
      "execution_count": 24,
      "outputs": [
        {
          "output_type": "stream",
          "name": "stdout",
          "text": [
            "Total de sobreviventes: 498 (38%)\n"
          ]
        }
      ]
    },
    {
      "cell_type": "markdown",
      "metadata": {
        "id": "iHSOyMzE62Sx"
      },
      "source": [
        ""
      ]
    },
    {
      "cell_type": "markdown",
      "metadata": {
        "id": "9EBW3BPxl0Eo"
      },
      "source": [
        "## 3.2. Homens ou mulheres tiveram mais chances de sobreviver?"
      ]
    },
    {
      "cell_type": "code",
      "metadata": {
        "id": "556bRiv3iQRm"
      },
      "source": [
        "df_sexo = df_sobrevivente['sexo'].value_counts()\n",
        "porcentagem = df_sexo*100/soma_sobrevivente"
      ],
      "execution_count": 25,
      "outputs": []
    },
    {
      "cell_type": "code",
      "metadata": {
        "colab": {
          "base_uri": "https://localhost:8080/"
        },
        "id": "ugyAy3IlnDsE",
        "outputId": "a04fa0c7-d893-49a1-9bdf-189d9ad3b62e"
      },
      "source": [
        "print('Total Sobreviventes: {} (100%)'.format(soma_sobrevivente))\n",
        "print('Sobreviventes Femininos: {} ({}%)'.format(df_sexo[0], round(porcentagem[0],2)))\n",
        "print('Sobreviventes Masculinos: {} ({}%)'.format(df_sexo[1], round(porcentagem[1],2)))\n",
        "print()\n",
        "print('Smith havia ordenado que seus oficiais colocassem as \"mulheres e crianças dentro e baixassem\".')\n",
        "print('Entretanto, Murdoch e Lightoller interpretaram as ordens de evacuação de maneiras diferentes;') \n",
        "print('Murdoch as interpretou como mulheres e crianças primeiro, enquanto Lightoller as interpretou como apenas mulheres e crianças.')\n",
        "print('Fonte: {https://pt.wikipedia.org/wiki/Botes_salva-vidas_do_RMS_Titanic}')"
      ],
      "execution_count": 26,
      "outputs": [
        {
          "output_type": "stream",
          "name": "stdout",
          "text": [
            "Total Sobreviventes: 498 (100%)\n",
            "Sobreviventes Femininos: 337 (67.67%)\n",
            "Sobreviventes Masculinos: 161 (32.33%)\n",
            "\n",
            "Smith havia ordenado que seus oficiais colocassem as \"mulheres e crianças dentro e baixassem\".\n",
            "Entretanto, Murdoch e Lightoller interpretaram as ordens de evacuação de maneiras diferentes;\n",
            "Murdoch as interpretou como mulheres e crianças primeiro, enquanto Lightoller as interpretou como apenas mulheres e crianças.\n",
            "Fonte: {https://pt.wikipedia.org/wiki/Botes_salva-vidas_do_RMS_Titanic}\n"
          ]
        }
      ]
    },
    {
      "cell_type": "markdown",
      "metadata": {
        "id": "CclCDyh_smw0"
      },
      "source": [
        "## 3.3. Qual classe social teve mais sobreviventes?"
      ]
    },
    {
      "cell_type": "code",
      "metadata": {
        "id": "54HZzi8Psonf"
      },
      "source": [
        "df_classe = df_sobrevivente['classe'].value_counts() \n",
        "porcentagem = df_classe*100/soma_sobrevivente"
      ],
      "execution_count": 27,
      "outputs": []
    },
    {
      "cell_type": "code",
      "metadata": {
        "colab": {
          "base_uri": "https://localhost:8080/"
        },
        "id": "wpva_n8J8uVs",
        "outputId": "af9c8fb6-7abb-43f0-da39-822dfb614d03"
      },
      "source": [
        "print('Total Sobreviventes: {} (100%)'.format(soma_sobrevivente))\n",
        "print('Sobreviventes classe Alta: {} ({}%)'.format(df_classe[0], round(porcentagem[0],2)))\n",
        "print('Sobreviventes classe Baixa: {} ({}%)'.format(df_classe[1], round(porcentagem[1],2)))\n",
        "print('Sobreviventes classe média: {} ({}%)'.format(df_classe[2], round(porcentagem[2],2)))"
      ],
      "execution_count": 28,
      "outputs": [
        {
          "output_type": "stream",
          "name": "stdout",
          "text": [
            "Total Sobreviventes: 498 (100%)\n",
            "Sobreviventes classe Alta: 198 (39.76%)\n",
            "Sobreviventes classe Baixa: 181 (36.35%)\n",
            "Sobreviventes classe média: 119 (23.9%)\n"
          ]
        }
      ]
    },
    {
      "cell_type": "markdown",
      "metadata": {
        "id": "_MQ7lJNlssoB"
      },
      "source": [
        "## 3.4. Qual faixa etária teve mais chances de sobreviver?"
      ]
    },
    {
      "cell_type": "code",
      "metadata": {
        "id": "g_NYJboB_RnF"
      },
      "source": [
        "sobreviventes = df_sobrevivente['faixa_etaria'].value_counts()\n",
        "total_passageiros = df_titanic['faixa_etaria'].value_counts()\n",
        "columns= ['total_passageiros','sobreviventes','%_sobrevivente']\n",
        "idades = df_titanic['faixa_etaria'].unique()\n",
        "porcentagem = sobreviventes*100/total_passageiros\n",
        "df = pd.DataFrame(list(zip(total_passageiros,sobreviventes,porcentagem)),index=idades, columns=columns )"
      ],
      "execution_count": 68,
      "outputs": []
    },
    {
      "cell_type": "code",
      "metadata": {
        "colab": {
          "base_uri": "https://localhost:8080/",
          "height": 192
        },
        "id": "uSaOGLy192ie",
        "outputId": "4ec13ba2-f55e-4fe6-9d1d-9882417be152"
      },
      "source": [
        "print('Total de passageiros X chance de sobrevivência por faixa etária')\n",
        "df"
      ],
      "execution_count": 73,
      "outputs": [
        {
          "output_type": "stream",
          "name": "stdout",
          "text": [
            "Total de passageiros X chance de sobrevivência por faixa etária\n"
          ]
        },
        {
          "output_type": "execute_result",
          "data": {
            "text/html": [
              "<div>\n",
              "<style scoped>\n",
              "    .dataframe tbody tr th:only-of-type {\n",
              "        vertical-align: middle;\n",
              "    }\n",
              "\n",
              "    .dataframe tbody tr th {\n",
              "        vertical-align: top;\n",
              "    }\n",
              "\n",
              "    .dataframe thead th {\n",
              "        text-align: right;\n",
              "    }\n",
              "</style>\n",
              "<table border=\"1\" class=\"dataframe\">\n",
              "  <thead>\n",
              "    <tr style=\"text-align: right;\">\n",
              "      <th></th>\n",
              "      <th>total_passageiros</th>\n",
              "      <th>sobreviventes</th>\n",
              "      <th>%_sobrevivente</th>\n",
              "    </tr>\n",
              "  </thead>\n",
              "  <tbody>\n",
              "    <tr>\n",
              "      <th>Adulto</th>\n",
              "      <td>1114</td>\n",
              "      <td>406</td>\n",
              "      <td>36.445242</td>\n",
              "    </tr>\n",
              "    <tr>\n",
              "      <th>Criança</th>\n",
              "      <td>94</td>\n",
              "      <td>54</td>\n",
              "      <td>57.446809</td>\n",
              "    </tr>\n",
              "    <tr>\n",
              "      <th>Idoso</th>\n",
              "      <td>60</td>\n",
              "      <td>27</td>\n",
              "      <td>45.000000</td>\n",
              "    </tr>\n",
              "    <tr>\n",
              "      <th>Adolecente</th>\n",
              "      <td>39</td>\n",
              "      <td>11</td>\n",
              "      <td>28.205128</td>\n",
              "    </tr>\n",
              "  </tbody>\n",
              "</table>\n",
              "</div>"
            ],
            "text/plain": [
              "            total_passageiros  sobreviventes  %_sobrevivente\n",
              "Adulto                   1114            406       36.445242\n",
              "Criança                    94             54       57.446809\n",
              "Idoso                      60             27       45.000000\n",
              "Adolecente                 39             11       28.205128"
            ]
          },
          "metadata": {},
          "execution_count": 73
        }
      ]
    },
    {
      "cell_type": "code",
      "metadata": {
        "colab": {
          "base_uri": "https://localhost:8080/"
        },
        "id": "3IYlRenzHsPn",
        "outputId": "45588767-6ae9-4050-83a8-9e27cad60671"
      },
      "source": [
        "print('As crianças tiveram mais chances de sobreviver')"
      ],
      "execution_count": 74,
      "outputs": [
        {
          "output_type": "stream",
          "name": "stdout",
          "text": [
            "As crianças tiveram mais chances de sobreviver\n"
          ]
        }
      ]
    },
    {
      "cell_type": "code",
      "metadata": {
        "id": "W9CVsU2RJufQ"
      },
      "source": [
        ""
      ],
      "execution_count": null,
      "outputs": []
    }
  ]
}
