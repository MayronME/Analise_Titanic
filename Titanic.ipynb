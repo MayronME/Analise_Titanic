{
 "cells": [
  {
   "cell_type": "markdown",
   "metadata": {
    "id": "P0vtl8WzEYd8"
   },
   "source": [
    "# Análise de Dados Exploratória do Titanic"
   ]
  },
  {
   "cell_type": "markdown",
   "metadata": {
    "id": "V7yLDWLEOCz5"
   },
   "source": [
    "# 1. Introdução\n",
    "O RMS Titanic foi um navio de passageiros britânico operado pela empresa White Star Line que afundou no Oceano Atlântico Norte nas primeiras horas da manhã de 15 de abril de 1912, depois de atingir um iceberg durante sua viagem inaugural de Southampton a Nova York. Dos 2.224 passageiros e tripulantes a bordo, mais de 1.500 morreram, tornando o naufrágio um dos desastres marítimos comerciais mais mortais da história moderna em tempos de paz.\n",
    "\n",
    "Neste estudo iremos explorar um conjunto de dados baseado na lista de passageiros do Titanic editada por Michael A. Findlay, publicada originalmente em Eaton & Haas (1994) Titanic: Triumph and Tragedy, Patrick Stephens Ltd, e expandida com a ajuda da comunidade da Internet. Os arquivos HTML originais foram obtidos por Philip Hind (1999) e o dataset descreve o status de sobrevivência de passageiros individuais no Titanic. Ele não contém informações para a tripulação, mas contém idades atuais e estimadas para quase 80% dos passageiros."
   ]
  },
  {
   "cell_type": "markdown",
   "metadata": {
    "id": "pFiCGT2eOQFx"
   },
   "source": [
    "## 1.1 Objetivos\n",
    "O objetivo deste estudo é realizar uma Análise Exploratória dos Dados (Exploratory Data Analysis - EDA) do conjunto de dados titanic3, adaptado pelo autor e disponível em [data/titanic3.csv](https://github.com/profdiegoaugusto/analise-dados/blob/master/Pandas/titanic-eda/data/titanic3.csv) ; a fim de caracterizar o perfil dos sobreviventes do fatídico naufrágio. Especificiamente serão respondidas as seguintes questões de pesquisa:\n",
    "\n",
    "1.   Qual é o número de Sobreviventes?\n",
    "2.   Homens ou mulheres tiveram mais chances de sobreviver?\n",
    "3.   Qual classe social teve mais sobreviventes?\n",
    "4.   Qual faixa etária teve mais chances de sobreviver?\n"
   ]
  },
  {
   "cell_type": "markdown",
   "metadata": {
    "id": "Y2nxoB78PDzg"
   },
   "source": [
    "# 2. Metodologia\n",
    "Nesta seção será apresentado todo o processo de preparação, organização e limpeza de dados feito no dataset que possui os seguintes dados:"
   ]
  },
  {
   "cell_type": "code",
   "execution_count": 24,
   "metadata": {},
   "outputs": [
    {
     "data": {
      "text/html": [
       "<div>\n",
       "<style scoped>\n",
       "    .dataframe tbody tr th:only-of-type {\n",
       "        vertical-align: middle;\n",
       "    }\n",
       "\n",
       "    .dataframe tbody tr th {\n",
       "        vertical-align: top;\n",
       "    }\n",
       "\n",
       "    .dataframe thead th {\n",
       "        text-align: right;\n",
       "    }\n",
       "</style>\n",
       "<table border=\"1\" class=\"dataframe\">\n",
       "  <thead>\n",
       "    <tr style=\"text-align: right;\">\n",
       "      <th></th>\n",
       "      <th>Coluna</th>\n",
       "      <th>Descrição</th>\n",
       "    </tr>\n",
       "  </thead>\n",
       "  <tbody>\n",
       "    <tr>\n",
       "      <th>0</th>\n",
       "      <td>id_passageiro</td>\n",
       "      <td>Identficador único do passageiro.</td>\n",
       "    </tr>\n",
       "    <tr>\n",
       "      <th>1</th>\n",
       "      <td>classe</td>\n",
       "      <td>Classe social.</td>\n",
       "    </tr>\n",
       "    <tr>\n",
       "      <th>2</th>\n",
       "      <td>sobreviveu</td>\n",
       "      <td>Sobrevivente? Sim (1), Não (0).</td>\n",
       "    </tr>\n",
       "    <tr>\n",
       "      <th>3</th>\n",
       "      <td>nome</td>\n",
       "      <td>Nome do passageiro.</td>\n",
       "    </tr>\n",
       "    <tr>\n",
       "      <th>4</th>\n",
       "      <td>sexo</td>\n",
       "      <td>Masculino (male), Feminino (female).</td>\n",
       "    </tr>\n",
       "    <tr>\n",
       "      <th>5</th>\n",
       "      <td>idade</td>\n",
       "      <td>Idade do passageiro.</td>\n",
       "    </tr>\n",
       "    <tr>\n",
       "      <th>6</th>\n",
       "      <td>irmaos_conjuges</td>\n",
       "      <td>Número de irmãos e cônjuges a bordo.</td>\n",
       "    </tr>\n",
       "    <tr>\n",
       "      <th>7</th>\n",
       "      <td>pais_filhos</td>\n",
       "      <td>Número de pais e filhos a bordo.</td>\n",
       "    </tr>\n",
       "    <tr>\n",
       "      <th>8</th>\n",
       "      <td>bilhete</td>\n",
       "      <td>Número do bilhete</td>\n",
       "    </tr>\n",
       "    <tr>\n",
       "      <th>9</th>\n",
       "      <td>tarifa</td>\n",
       "      <td>Preço da tarifa do passageiro.</td>\n",
       "    </tr>\n",
       "    <tr>\n",
       "      <th>10</th>\n",
       "      <td>cabine</td>\n",
       "      <td>Cabine.</td>\n",
       "    </tr>\n",
       "    <tr>\n",
       "      <th>11</th>\n",
       "      <td>embarque</td>\n",
       "      <td>Nome do porto de embarque: C = Cherbourg; Q = Queenstown; S = Southampton</td>\n",
       "    </tr>\n",
       "    <tr>\n",
       "      <th>12</th>\n",
       "      <td>bote</td>\n",
       "      <td>Bote salva vidas.</td>\n",
       "    </tr>\n",
       "    <tr>\n",
       "      <th>13</th>\n",
       "      <td>corpo</td>\n",
       "      <td>Número de identificação do corpo.</td>\n",
       "    </tr>\n",
       "    <tr>\n",
       "      <th>14</th>\n",
       "      <td>destino</td>\n",
       "      <td>Local de desembarque do passageiro.</td>\n",
       "    </tr>\n",
       "  </tbody>\n",
       "</table>\n",
       "</div>"
      ],
      "text/plain": [
       "             Coluna                                          Descrição\n",
       "0     id_passageiro                  Identficador único do passageiro.\n",
       "1            classe                                     Classe social.\n",
       "2        sobreviveu                    Sobrevivente? Sim (1), Não (0).\n",
       "3              nome                                Nome do passageiro.\n",
       "4              sexo               Masculino (male), Feminino (female).\n",
       "5             idade                               Idade do passageiro.\n",
       "6   irmaos_conjuges               Número de irmãos e cônjuges a bordo.\n",
       "7       pais_filhos                   Número de pais e filhos a bordo.\n",
       "8           bilhete                                  Número do bilhete\n",
       "9            tarifa                     Preço da tarifa do passageiro.\n",
       "10           cabine                                            Cabine.\n",
       "11         embarque  Nome do porto de embarque: C = Cherbourg; Q = ...\n",
       "12             bote                                  Bote salva vidas.\n",
       "13            corpo                  Número de identificação do corpo.\n",
       "14          destino                Local de desembarque do passageiro."
      ]
     },
     "execution_count": 24,
     "metadata": {},
     "output_type": "execute_result"
    }
   ],
   "source": [
    "valor_coluna = dados_brutos.columns\n",
    "valor_descricao = np.array(['Identficador único do passageiro.','Classe social.','Sobrevivente? Sim (1), Não (0).','Nome do passageiro.','Masculino (male), Feminino (female).','Idade do passageiro.','Número de irmãos e cônjuges a bordo.','Número de pais e filhos a bordo.','Número do bilhete','Preço da tarifa do passageiro.','Cabine.','Nome do porto de embarque: C = Cherbourg; Q = Queenstown; S = Southampton','Bote salva vidas.','Número de identificação do corpo.','Local de desembarque do passageiro.'])\n",
    "tabela = [(coluna,descricao) for coluna,descricao in zip(valor_coluna, valor_descricao)]\n",
    "pd.DataFrame(tabela, columns=['Coluna','Descrição'])"
   ]
  },
  {
   "cell_type": "markdown",
   "metadata": {
    "id": "2KU_gBkwKlZT"
   },
   "source": [
    "## 2.1. Configuração do Ambiente"
   ]
  },
  {
   "cell_type": "code",
   "execution_count": 11,
   "metadata": {
    "id": "nDHAme-cEddv"
   },
   "outputs": [],
   "source": [
    "import pandas as pd\n",
    "import numpy as np"
   ]
  },
  {
   "cell_type": "markdown",
   "metadata": {
    "id": "_AnxPe2mVo68"
   },
   "source": [
    "## 2.2. Leitura dos Dados"
   ]
  },
  {
   "cell_type": "code",
   "execution_count": 2,
   "metadata": {
    "id": "boafyUmBVQZX"
   },
   "outputs": [],
   "source": [
    "url = 'https://github.com/profdiegoaugusto/analise-dados/blob/master/Pandas/titanic-eda/data/titanic3.csv'\n",
    "dados_brutos = pd.read_html(url)"
   ]
  },
  {
   "cell_type": "code",
   "execution_count": 3,
   "metadata": {
    "colab": {
     "base_uri": "https://localhost:8080/"
    },
    "id": "pOYZwOx-JO2g",
    "outputId": "9f533137-46d4-4642-de00-44b3855600ea"
   },
   "outputs": [
    {
     "data": {
      "text/plain": [
       "0      NaN\n",
       "1      NaN\n",
       "2      NaN\n",
       "3      NaN\n",
       "4      NaN\n",
       "        ..\n",
       "1304   NaN\n",
       "1305   NaN\n",
       "1306   NaN\n",
       "1307   NaN\n",
       "1308   NaN\n",
       "Name: Unnamed: 0, Length: 1309, dtype: float64"
      ]
     },
     "execution_count": 3,
     "metadata": {},
     "output_type": "execute_result"
    }
   ],
   "source": [
    "#Passando para dataframe e excluindo coluna Unnamed\n",
    "dados_brutos = dados_brutos[0]\n",
    "dados_brutos.pop(\"Unnamed: 0\")"
   ]
  },
  {
   "cell_type": "markdown",
   "metadata": {
    "id": "j1ltnPl_KpQ2"
   },
   "source": [
    "## 2.3. Organização e Limpeza dos Dados"
   ]
  },
  {
   "cell_type": "markdown",
   "metadata": {
    "id": "IFvyXiAHK7yQ"
   },
   "source": [
    "### 2.3.1. Visão Geral do Conjunto de Dados"
   ]
  },
  {
   "cell_type": "code",
   "execution_count": 4,
   "metadata": {
    "colab": {
     "base_uri": "https://localhost:8080/",
     "height": 0
    },
    "id": "L0gL1KlTFAK1",
    "outputId": "2742e5aa-7b52-4682-c589-364ade4e56fc"
   },
   "outputs": [
    {
     "data": {
      "text/html": [
       "<div>\n",
       "<style scoped>\n",
       "    .dataframe tbody tr th:only-of-type {\n",
       "        vertical-align: middle;\n",
       "    }\n",
       "\n",
       "    .dataframe tbody tr th {\n",
       "        vertical-align: top;\n",
       "    }\n",
       "\n",
       "    .dataframe thead th {\n",
       "        text-align: right;\n",
       "    }\n",
       "</style>\n",
       "<table border=\"1\" class=\"dataframe\">\n",
       "  <thead>\n",
       "    <tr style=\"text-align: right;\">\n",
       "      <th></th>\n",
       "      <th>count</th>\n",
       "      <th>mean</th>\n",
       "      <th>std</th>\n",
       "      <th>min</th>\n",
       "      <th>25%</th>\n",
       "      <th>50%</th>\n",
       "      <th>75%</th>\n",
       "      <th>max</th>\n",
       "    </tr>\n",
       "  </thead>\n",
       "  <tbody>\n",
       "    <tr>\n",
       "      <th>id_passageiro</th>\n",
       "      <td>1309.0</td>\n",
       "      <td>655.000000</td>\n",
       "      <td>378.020061</td>\n",
       "      <td>1.0</td>\n",
       "      <td>328.0000</td>\n",
       "      <td>655.0000</td>\n",
       "      <td>982.000</td>\n",
       "      <td>1309.0000</td>\n",
       "    </tr>\n",
       "    <tr>\n",
       "      <th>classe</th>\n",
       "      <td>1309.0</td>\n",
       "      <td>2.294882</td>\n",
       "      <td>0.837836</td>\n",
       "      <td>1.0</td>\n",
       "      <td>2.0000</td>\n",
       "      <td>3.0000</td>\n",
       "      <td>3.000</td>\n",
       "      <td>3.0000</td>\n",
       "    </tr>\n",
       "    <tr>\n",
       "      <th>sobreviveu</th>\n",
       "      <td>1309.0</td>\n",
       "      <td>0.381971</td>\n",
       "      <td>0.486055</td>\n",
       "      <td>0.0</td>\n",
       "      <td>0.0000</td>\n",
       "      <td>0.0000</td>\n",
       "      <td>1.000</td>\n",
       "      <td>1.0000</td>\n",
       "    </tr>\n",
       "    <tr>\n",
       "      <th>idade</th>\n",
       "      <td>1046.0</td>\n",
       "      <td>29.897706</td>\n",
       "      <td>14.414973</td>\n",
       "      <td>0.0</td>\n",
       "      <td>21.0000</td>\n",
       "      <td>28.0000</td>\n",
       "      <td>39.000</td>\n",
       "      <td>80.0000</td>\n",
       "    </tr>\n",
       "    <tr>\n",
       "      <th>irmaos_conjuges</th>\n",
       "      <td>1309.0</td>\n",
       "      <td>0.498854</td>\n",
       "      <td>1.041658</td>\n",
       "      <td>0.0</td>\n",
       "      <td>0.0000</td>\n",
       "      <td>0.0000</td>\n",
       "      <td>1.000</td>\n",
       "      <td>8.0000</td>\n",
       "    </tr>\n",
       "    <tr>\n",
       "      <th>pais_filhos</th>\n",
       "      <td>1309.0</td>\n",
       "      <td>0.385027</td>\n",
       "      <td>0.865560</td>\n",
       "      <td>0.0</td>\n",
       "      <td>0.0000</td>\n",
       "      <td>0.0000</td>\n",
       "      <td>0.000</td>\n",
       "      <td>9.0000</td>\n",
       "    </tr>\n",
       "    <tr>\n",
       "      <th>tarifa</th>\n",
       "      <td>1308.0</td>\n",
       "      <td>33.295479</td>\n",
       "      <td>51.758668</td>\n",
       "      <td>0.0</td>\n",
       "      <td>7.8958</td>\n",
       "      <td>14.4542</td>\n",
       "      <td>31.275</td>\n",
       "      <td>512.3292</td>\n",
       "    </tr>\n",
       "    <tr>\n",
       "      <th>corpo</th>\n",
       "      <td>121.0</td>\n",
       "      <td>160.809917</td>\n",
       "      <td>97.696922</td>\n",
       "      <td>1.0</td>\n",
       "      <td>72.0000</td>\n",
       "      <td>155.0000</td>\n",
       "      <td>256.000</td>\n",
       "      <td>328.0000</td>\n",
       "    </tr>\n",
       "  </tbody>\n",
       "</table>\n",
       "</div>"
      ],
      "text/plain": [
       "                  count        mean         std  min       25%       50%  \\\n",
       "id_passageiro    1309.0  655.000000  378.020061  1.0  328.0000  655.0000   \n",
       "classe           1309.0    2.294882    0.837836  1.0    2.0000    3.0000   \n",
       "sobreviveu       1309.0    0.381971    0.486055  0.0    0.0000    0.0000   \n",
       "idade            1046.0   29.897706   14.414973  0.0   21.0000   28.0000   \n",
       "irmaos_conjuges  1309.0    0.498854    1.041658  0.0    0.0000    0.0000   \n",
       "pais_filhos      1309.0    0.385027    0.865560  0.0    0.0000    0.0000   \n",
       "tarifa           1308.0   33.295479   51.758668  0.0    7.8958   14.4542   \n",
       "corpo             121.0  160.809917   97.696922  1.0   72.0000  155.0000   \n",
       "\n",
       "                     75%        max  \n",
       "id_passageiro    982.000  1309.0000  \n",
       "classe             3.000     3.0000  \n",
       "sobreviveu         1.000     1.0000  \n",
       "idade             39.000    80.0000  \n",
       "irmaos_conjuges    1.000     8.0000  \n",
       "pais_filhos        0.000     9.0000  \n",
       "tarifa            31.275   512.3292  \n",
       "corpo            256.000   328.0000  "
      ]
     },
     "execution_count": 4,
     "metadata": {},
     "output_type": "execute_result"
    }
   ],
   "source": [
    "dados_brutos.describe().transpose()"
   ]
  },
  {
   "cell_type": "code",
   "execution_count": 5,
   "metadata": {
    "colab": {
     "base_uri": "https://localhost:8080/"
    },
    "id": "JdHIuQLyQPLx",
    "outputId": "3ec4bff9-464b-4028-e928-151588098a1f"
   },
   "outputs": [
    {
     "data": {
      "text/plain": [
       "id_passageiro        int64\n",
       "classe               int64\n",
       "sobreviveu           int64\n",
       "nome                object\n",
       "sexo                object\n",
       "idade              float64\n",
       "irmaos_conjuges      int64\n",
       "pais_filhos          int64\n",
       "bilhete             object\n",
       "tarifa             float64\n",
       "cabine              object\n",
       "embarque            object\n",
       "bote                object\n",
       "corpo              float64\n",
       "destino             object\n",
       "dtype: object"
      ]
     },
     "execution_count": 5,
     "metadata": {},
     "output_type": "execute_result"
    }
   ],
   "source": [
    "dados_brutos.dtypes"
   ]
  },
  {
   "cell_type": "code",
   "execution_count": 6,
   "metadata": {
    "colab": {
     "base_uri": "https://localhost:8080/"
    },
    "id": "hye2wV8mQVvP",
    "outputId": "82ca39f5-480a-4eec-e00d-996e6033a33e"
   },
   "outputs": [
    {
     "data": {
      "text/plain": [
       "id_passageiro         0\n",
       "classe                0\n",
       "sobreviveu            0\n",
       "nome                  0\n",
       "sexo                  0\n",
       "idade               263\n",
       "irmaos_conjuges       0\n",
       "pais_filhos           0\n",
       "bilhete               0\n",
       "tarifa                1\n",
       "cabine             1014\n",
       "embarque              2\n",
       "bote                823\n",
       "corpo              1188\n",
       "destino             564\n",
       "dtype: int64"
      ]
     },
     "execution_count": 6,
     "metadata": {},
     "output_type": "execute_result"
    }
   ],
   "source": [
    "dados_brutos.isnull().sum()"
   ]
  },
  {
   "cell_type": "markdown",
   "metadata": {
    "id": "LOwYhVymUdL-"
   },
   "source": [
    "### 2.3.2 Remoção de Colunas"
   ]
  },
  {
   "cell_type": "code",
   "execution_count": 7,
   "metadata": {
    "id": "FN_4dYStLFqg"
   },
   "outputs": [],
   "source": [
    "#Excluindo colunas NOME, BILHETE, CABINE, DESTINO, BOTE, CORPO\n",
    "df_titanic = dados_brutos.drop([\"nome\",\"bilhete\",\"cabine\",\"destino\",\"bote\",\"corpo\"], axis=1)"
   ]
  },
  {
   "cell_type": "markdown",
   "metadata": {
    "id": "yEcKMJv_Lbx1"
   },
   "source": [
    "### 2.3.3. Dados Ausentes"
   ]
  },
  {
   "cell_type": "code",
   "execution_count": 543,
   "metadata": {
    "colab": {
     "base_uri": "https://localhost:8080/"
    },
    "id": "mDrDbFQsFZh-",
    "outputId": "61d971bc-d222-4d39-8693-7a470666807c"
   },
   "outputs": [
    {
     "name": "stdout",
     "output_type": "stream",
     "text": [
      "dados nulos: 266\n",
      "id_passageiro        0\n",
      "classe               0\n",
      "sobreviveu           0\n",
      "sexo                 0\n",
      "idade              263\n",
      "irmaos_conjuges      0\n",
      "pais_filhos          0\n",
      "tarifa               1\n",
      "embarque             2\n",
      "dtype: int64\n"
     ]
    }
   ],
   "source": [
    "print('dados nulos: {}'.format(df_titanic.isnull().sum().sum()))\n",
    "print(df_titanic.isnull().sum())"
   ]
  },
  {
   "cell_type": "markdown",
   "metadata": {
    "id": "HtRD3UcoMOvz"
   },
   "source": [
    "#### 2.3.3.1 Idades Ausentes"
   ]
  },
  {
   "cell_type": "markdown",
   "metadata": {
    "id": "8wvoMSaQKW1U"
   },
   "source": [
    "Removendo todos os dados Ausentes da coluna idade"
   ]
  },
  {
   "cell_type": "code",
   "execution_count": 544,
   "metadata": {
    "colab": {
     "base_uri": "https://localhost:8080/"
    },
    "id": "XfWHDbhIFefz",
    "outputId": "05070893-2f96-4615-fe8a-f6082da0966e"
   },
   "outputs": [
    {
     "name": "stdout",
     "output_type": "stream",
     "text": [
      "Idade NaN(Entrada): 263\n",
      "Idade NaN(Saida): 0\n"
     ]
    }
   ],
   "source": [
    "print('Idade NaN(Entrada): {}'.format(df_titanic['idade'].isnull().sum()))\n",
    "df_titanic[['idade']]  = df_titanic['idade'].fillna(df_titanic['idade'].mean())\n",
    "print('Idade NaN(Saida): {}'.format(df_titanic['idade'].isnull().sum()))\n",
    "df_titanic['idade'] = df_titanic['idade'].astype(int)"
   ]
  },
  {
   "cell_type": "code",
   "execution_count": 545,
   "metadata": {
    "colab": {
     "base_uri": "https://localhost:8080/"
    },
    "id": "3O5HkvMgeal6",
    "outputId": "adf95d9d-6e00-4cd7-e0d1-e3520d8180bf"
   },
   "outputs": [
    {
     "data": {
      "text/plain": [
       "array([29,  1,  2, 30, 25, 48, 63, 39, 53, 71, 47, 18, 24, 26, 80, 50, 32,\n",
       "       36, 37, 42, 19, 35, 28, 45, 40, 58, 22, 41, 44, 59, 60, 33, 17, 11,\n",
       "       14, 49, 76, 46, 27, 64, 55, 70, 38, 51, 31,  4, 54, 23, 43, 52, 16,\n",
       "       21, 15, 65, 56, 13, 61, 34,  6, 57, 62, 67, 12, 20,  8,  7,  3,  5,\n",
       "       66,  9,  0, 10, 74])"
      ]
     },
     "execution_count": 545,
     "metadata": {},
     "output_type": "execute_result"
    }
   ],
   "source": [
    "df_titanic['idade'].unique()"
   ]
  },
  {
   "cell_type": "markdown",
   "metadata": {
    "id": "5KR6X3D_MYsW"
   },
   "source": [
    "#### 2.3.3.2 Tarifas Ausentes"
   ]
  },
  {
   "cell_type": "code",
   "execution_count": 546,
   "metadata": {
    "colab": {
     "base_uri": "https://localhost:8080/",
     "height": 0
    },
    "id": "hNQjagkeF2AO",
    "outputId": "1ba0f836-899d-46d1-9827-086c95aa01ec"
   },
   "outputs": [
    {
     "name": "stdout",
     "output_type": "stream",
     "text": [
      "Falta Tarifa\n"
     ]
    },
    {
     "data": {
      "text/html": [
       "<div>\n",
       "<style scoped>\n",
       "    .dataframe tbody tr th:only-of-type {\n",
       "        vertical-align: middle;\n",
       "    }\n",
       "\n",
       "    .dataframe tbody tr th {\n",
       "        vertical-align: top;\n",
       "    }\n",
       "\n",
       "    .dataframe thead th {\n",
       "        text-align: right;\n",
       "    }\n",
       "</style>\n",
       "<table border=\"1\" class=\"dataframe\">\n",
       "  <thead>\n",
       "    <tr style=\"text-align: right;\">\n",
       "      <th></th>\n",
       "      <th>id_passageiro</th>\n",
       "      <th>classe</th>\n",
       "      <th>sobreviveu</th>\n",
       "      <th>sexo</th>\n",
       "      <th>idade</th>\n",
       "      <th>irmaos_conjuges</th>\n",
       "      <th>pais_filhos</th>\n",
       "      <th>tarifa</th>\n",
       "      <th>embarque</th>\n",
       "    </tr>\n",
       "  </thead>\n",
       "  <tbody>\n",
       "    <tr>\n",
       "      <th>1225</th>\n",
       "      <td>1226</td>\n",
       "      <td>3</td>\n",
       "      <td>0</td>\n",
       "      <td>male</td>\n",
       "      <td>61</td>\n",
       "      <td>0</td>\n",
       "      <td>0</td>\n",
       "      <td>NaN</td>\n",
       "      <td>S</td>\n",
       "    </tr>\n",
       "  </tbody>\n",
       "</table>\n",
       "</div>"
      ],
      "text/plain": [
       "      id_passageiro  classe  sobreviveu  ... pais_filhos  tarifa  embarque\n",
       "1225           1226       3           0  ...           0     NaN         S\n",
       "\n",
       "[1 rows x 9 columns]"
      ]
     },
     "execution_count": 546,
     "metadata": {},
     "output_type": "execute_result"
    }
   ],
   "source": [
    "print('Falta Tarifa')\n",
    "df_titanic[df_titanic['tarifa'].isnull()]"
   ]
  },
  {
   "cell_type": "code",
   "execution_count": 547,
   "metadata": {
    "colab": {
     "base_uri": "https://localhost:8080/"
    },
    "id": "BLvhKPHAGdTI",
    "outputId": "6dcb2923-2710-43e9-df30-75ed1cd54079"
   },
   "outputs": [
    {
     "name": "stdout",
     "output_type": "stream",
     "text": [
      "Passageiros com dados (Classe, Sexo, Idade, Embarque) semelhantes ao faltante: 9\n"
     ]
    }
   ],
   "source": [
    "tarifas = df_titanic[(df_titanic['classe'] == 3)  & (df_titanic['sexo'] == 'male') & (df_titanic['idade'] >= 50) & (df_titanic['irmaos_conjuges'] == 0)  & (df_titanic['embarque'] == 'S')]\n",
    "print('Passageiros com dados (Classe, Sexo, Idade, Embarque) semelhantes ao faltante: {}'.format(len(tarifas)))"
   ]
  },
  {
   "cell_type": "code",
   "execution_count": 548,
   "metadata": {
    "id": "B1L0nNtPHKUi"
   },
   "outputs": [],
   "source": [
    "df_titanic['tarifa'] = df_titanic['tarifa'].fillna(tarifas['tarifa'].mean())"
   ]
  },
  {
   "cell_type": "code",
   "execution_count": 549,
   "metadata": {
    "colab": {
     "base_uri": "https://localhost:8080/",
     "height": 0
    },
    "id": "2UVEh-i3O1ww",
    "outputId": "34c437af-cea5-4e4c-f87f-62e401c34585"
   },
   "outputs": [
    {
     "data": {
      "text/html": [
       "<div>\n",
       "<style scoped>\n",
       "    .dataframe tbody tr th:only-of-type {\n",
       "        vertical-align: middle;\n",
       "    }\n",
       "\n",
       "    .dataframe tbody tr th {\n",
       "        vertical-align: top;\n",
       "    }\n",
       "\n",
       "    .dataframe thead th {\n",
       "        text-align: right;\n",
       "    }\n",
       "</style>\n",
       "<table border=\"1\" class=\"dataframe\">\n",
       "  <thead>\n",
       "    <tr style=\"text-align: right;\">\n",
       "      <th></th>\n",
       "      <th>id_passageiro</th>\n",
       "      <th>classe</th>\n",
       "      <th>sobreviveu</th>\n",
       "      <th>sexo</th>\n",
       "      <th>idade</th>\n",
       "      <th>irmaos_conjuges</th>\n",
       "      <th>pais_filhos</th>\n",
       "      <th>tarifa</th>\n",
       "      <th>embarque</th>\n",
       "    </tr>\n",
       "  </thead>\n",
       "  <tbody>\n",
       "    <tr>\n",
       "      <th>1224</th>\n",
       "      <td>1225</td>\n",
       "      <td>3</td>\n",
       "      <td>0</td>\n",
       "      <td>male</td>\n",
       "      <td>21</td>\n",
       "      <td>0</td>\n",
       "      <td>0</td>\n",
       "      <td>8.05</td>\n",
       "      <td>S</td>\n",
       "    </tr>\n",
       "  </tbody>\n",
       "</table>\n",
       "</div>"
      ],
      "text/plain": [
       "      id_passageiro  classe  sobreviveu  ... pais_filhos  tarifa  embarque\n",
       "1224           1225       3           0  ...           0    8.05         S\n",
       "\n",
       "[1 rows x 9 columns]"
      ]
     },
     "execution_count": 549,
     "metadata": {},
     "output_type": "execute_result"
    }
   ],
   "source": [
    "df_titanic.loc[df_titanic['id_passageiro'] == 1225]"
   ]
  },
  {
   "cell_type": "markdown",
   "metadata": {
    "id": "S5TkyORLRmxu"
   },
   "source": [
    "#### 2.3.3.3 Portos de Embarque Ausentes"
   ]
  },
  {
   "cell_type": "code",
   "execution_count": 550,
   "metadata": {
    "id": "z9JGDetwRoNq"
   },
   "outputs": [],
   "source": [
    "#Excluindo embarques com NaN\n",
    "df_titanic = df_titanic[df_titanic['embarque'].notna()]"
   ]
  },
  {
   "cell_type": "markdown",
   "metadata": {
    "id": "ii85K6h9hX0P"
   },
   "source": [
    "#### Dados Ausentes"
   ]
  },
  {
   "cell_type": "code",
   "execution_count": 551,
   "metadata": {
    "colab": {
     "base_uri": "https://localhost:8080/"
    },
    "id": "jOGAb8EPhcsZ",
    "outputId": "072fb559-695e-4383-aae1-16030d73a6fa"
   },
   "outputs": [
    {
     "name": "stdout",
     "output_type": "stream",
     "text": [
      "dados nulos: 0\n",
      "id_passageiro      0\n",
      "classe             0\n",
      "sobreviveu         0\n",
      "sexo               0\n",
      "idade              0\n",
      "irmaos_conjuges    0\n",
      "pais_filhos        0\n",
      "tarifa             0\n",
      "embarque           0\n",
      "dtype: int64\n"
     ]
    }
   ],
   "source": [
    "print('dados nulos: {}'.format(df_titanic.isnull().sum().sum()))\n",
    "print(df_titanic.isnull().sum())"
   ]
  },
  {
   "cell_type": "markdown",
   "metadata": {
    "id": "Pd5AW6Bah1MH"
   },
   "source": [
    "## 2.4 Mapeamento de Dados"
   ]
  },
  {
   "cell_type": "code",
   "execution_count": 552,
   "metadata": {
    "id": "FPEBthk4h7xu"
   },
   "outputs": [],
   "source": [
    "def modificado(coluna,origem):\n",
    "    modificado = []\n",
    "    if coluna == 'Classe':\n",
    "        for coluna in origem:\n",
    "            if coluna == 1:\n",
    "                modificado.append('Alta')\n",
    "            elif coluna == 2:\n",
    "                modificado.append('Média')\n",
    "            else:\n",
    "                modificado.append('Baixa')\n",
    "        return modificado\n",
    "    elif coluna == 'Sexo':\n",
    "        for coluna in origem:\n",
    "            if coluna == 'male':\n",
    "                modificado.append('Homem')\n",
    "            else :\n",
    "                modificado.append('Mulher')\n",
    "        return modificado\n",
    "    else:\n",
    "        for coluna in origem:\n",
    "            if coluna == 'C':\n",
    "                modificado.append('Cherbourg')\n",
    "            elif coluna == 'Q':\n",
    "                modificado.append('Queenstown')\n",
    "            else:\n",
    "                modificado.append('Southampton')\n",
    "        return modificado\n",
    "\n",
    "df_titanic['classe'] = modificado('Classe',df_titanic['classe'])\n",
    "df_titanic['sexo'] = modificado('Sexo',df_titanic['sexo'])\n",
    "df_titanic['embarque'] = modificado('Embarque',df_titanic['embarque'])"
   ]
  },
  {
   "cell_type": "code",
   "execution_count": 553,
   "metadata": {
    "colab": {
     "base_uri": "https://localhost:8080/",
     "height": 363
    },
    "id": "xt5iGAlXnR3f",
    "outputId": "e83a1134-7be1-44fc-a2a3-ed05e3427b15"
   },
   "outputs": [
    {
     "data": {
      "text/html": [
       "<div>\n",
       "<style scoped>\n",
       "    .dataframe tbody tr th:only-of-type {\n",
       "        vertical-align: middle;\n",
       "    }\n",
       "\n",
       "    .dataframe tbody tr th {\n",
       "        vertical-align: top;\n",
       "    }\n",
       "\n",
       "    .dataframe thead th {\n",
       "        text-align: right;\n",
       "    }\n",
       "</style>\n",
       "<table border=\"1\" class=\"dataframe\">\n",
       "  <thead>\n",
       "    <tr style=\"text-align: right;\">\n",
       "      <th></th>\n",
       "      <th>id_passageiro</th>\n",
       "      <th>classe</th>\n",
       "      <th>sobreviveu</th>\n",
       "      <th>sexo</th>\n",
       "      <th>idade</th>\n",
       "      <th>irmaos_conjuges</th>\n",
       "      <th>pais_filhos</th>\n",
       "      <th>tarifa</th>\n",
       "      <th>embarque</th>\n",
       "    </tr>\n",
       "  </thead>\n",
       "  <tbody>\n",
       "    <tr>\n",
       "      <th>481</th>\n",
       "      <td>482</td>\n",
       "      <td>Média</td>\n",
       "      <td>1</td>\n",
       "      <td>Mulher</td>\n",
       "      <td>22</td>\n",
       "      <td>1</td>\n",
       "      <td>2</td>\n",
       "      <td>41.5792</td>\n",
       "      <td>Cherbourg</td>\n",
       "    </tr>\n",
       "    <tr>\n",
       "      <th>112</th>\n",
       "      <td>113</td>\n",
       "      <td>Alta</td>\n",
       "      <td>1</td>\n",
       "      <td>Mulher</td>\n",
       "      <td>28</td>\n",
       "      <td>3</td>\n",
       "      <td>2</td>\n",
       "      <td>263.0000</td>\n",
       "      <td>Southampton</td>\n",
       "    </tr>\n",
       "    <tr>\n",
       "      <th>207</th>\n",
       "      <td>208</td>\n",
       "      <td>Alta</td>\n",
       "      <td>1</td>\n",
       "      <td>Mulher</td>\n",
       "      <td>33</td>\n",
       "      <td>1</td>\n",
       "      <td>0</td>\n",
       "      <td>90.0000</td>\n",
       "      <td>Queenstown</td>\n",
       "    </tr>\n",
       "    <tr>\n",
       "      <th>1289</th>\n",
       "      <td>1290</td>\n",
       "      <td>Baixa</td>\n",
       "      <td>0</td>\n",
       "      <td>Homem</td>\n",
       "      <td>21</td>\n",
       "      <td>1</td>\n",
       "      <td>0</td>\n",
       "      <td>6.4958</td>\n",
       "      <td>Southampton</td>\n",
       "    </tr>\n",
       "    <tr>\n",
       "      <th>777</th>\n",
       "      <td>778</td>\n",
       "      <td>Baixa</td>\n",
       "      <td>1</td>\n",
       "      <td>Homem</td>\n",
       "      <td>19</td>\n",
       "      <td>0</td>\n",
       "      <td>0</td>\n",
       "      <td>8.0500</td>\n",
       "      <td>Southampton</td>\n",
       "    </tr>\n",
       "    <tr>\n",
       "      <th>1110</th>\n",
       "      <td>1111</td>\n",
       "      <td>Baixa</td>\n",
       "      <td>0</td>\n",
       "      <td>Homem</td>\n",
       "      <td>32</td>\n",
       "      <td>0</td>\n",
       "      <td>0</td>\n",
       "      <td>7.8958</td>\n",
       "      <td>Southampton</td>\n",
       "    </tr>\n",
       "    <tr>\n",
       "      <th>1247</th>\n",
       "      <td>1248</td>\n",
       "      <td>Baixa</td>\n",
       "      <td>1</td>\n",
       "      <td>Mulher</td>\n",
       "      <td>29</td>\n",
       "      <td>1</td>\n",
       "      <td>0</td>\n",
       "      <td>16.1000</td>\n",
       "      <td>Southampton</td>\n",
       "    </tr>\n",
       "    <tr>\n",
       "      <th>1005</th>\n",
       "      <td>1006</td>\n",
       "      <td>Baixa</td>\n",
       "      <td>0</td>\n",
       "      <td>Homem</td>\n",
       "      <td>29</td>\n",
       "      <td>0</td>\n",
       "      <td>0</td>\n",
       "      <td>15.5000</td>\n",
       "      <td>Queenstown</td>\n",
       "    </tr>\n",
       "    <tr>\n",
       "      <th>630</th>\n",
       "      <td>631</td>\n",
       "      <td>Baixa</td>\n",
       "      <td>1</td>\n",
       "      <td>Homem</td>\n",
       "      <td>27</td>\n",
       "      <td>0</td>\n",
       "      <td>0</td>\n",
       "      <td>7.7958</td>\n",
       "      <td>Southampton</td>\n",
       "    </tr>\n",
       "    <tr>\n",
       "      <th>1251</th>\n",
       "      <td>1252</td>\n",
       "      <td>Baixa</td>\n",
       "      <td>0</td>\n",
       "      <td>Homem</td>\n",
       "      <td>31</td>\n",
       "      <td>0</td>\n",
       "      <td>0</td>\n",
       "      <td>8.0500</td>\n",
       "      <td>Southampton</td>\n",
       "    </tr>\n",
       "  </tbody>\n",
       "</table>\n",
       "</div>"
      ],
      "text/plain": [
       "      id_passageiro classe  sobreviveu  ... pais_filhos    tarifa     embarque\n",
       "481             482  Média           1  ...           2   41.5792    Cherbourg\n",
       "112             113   Alta           1  ...           2  263.0000  Southampton\n",
       "207             208   Alta           1  ...           0   90.0000   Queenstown\n",
       "1289           1290  Baixa           0  ...           0    6.4958  Southampton\n",
       "777             778  Baixa           1  ...           0    8.0500  Southampton\n",
       "1110           1111  Baixa           0  ...           0    7.8958  Southampton\n",
       "1247           1248  Baixa           1  ...           0   16.1000  Southampton\n",
       "1005           1006  Baixa           0  ...           0   15.5000   Queenstown\n",
       "630             631  Baixa           1  ...           0    7.7958  Southampton\n",
       "1251           1252  Baixa           0  ...           0    8.0500  Southampton\n",
       "\n",
       "[10 rows x 9 columns]"
      ]
     },
     "execution_count": 553,
     "metadata": {},
     "output_type": "execute_result"
    }
   ],
   "source": [
    "df_titanic.sample(10)"
   ]
  },
  {
   "cell_type": "markdown",
   "metadata": {
    "id": "n6y7CW86ooX7"
   },
   "source": [
    "## 2.5. Feature Engineering"
   ]
  },
  {
   "cell_type": "markdown",
   "metadata": {
    "id": "In5bS2nkg0UP"
   },
   "source": [
    "### 2.5.1 Total de Parentes"
   ]
  },
  {
   "cell_type": "code",
   "execution_count": 554,
   "metadata": {
    "id": "LXO366VHorEG"
   },
   "outputs": [],
   "source": [
    "df_titanic['total_parentes'] = df_titanic['irmaos_conjuges'] + df_titanic['pais_filhos']"
   ]
  },
  {
   "cell_type": "code",
   "execution_count": 555,
   "metadata": {
    "colab": {
     "base_uri": "https://localhost:8080/"
    },
    "id": "ND5dYpuHg_7h",
    "outputId": "be0ed35d-19be-4705-a1b1-4499970787dd"
   },
   "outputs": [
    {
     "data": {
      "text/plain": [
       "0    0\n",
       "1    3\n",
       "2    3\n",
       "3    3\n",
       "4    3\n",
       "Name: total_parentes, dtype: int64"
      ]
     },
     "execution_count": 555,
     "metadata": {},
     "output_type": "execute_result"
    }
   ],
   "source": [
    "df_titanic['total_parentes'].head()"
   ]
  },
  {
   "cell_type": "markdown",
   "metadata": {
    "id": "MBNxzjT8g5Ws"
   },
   "source": [
    "### 2.5.2 Faixas Etárias"
   ]
  },
  {
   "cell_type": "code",
   "execution_count": 556,
   "metadata": {
    "id": "8PdbxS8ig6sy"
   },
   "outputs": [],
   "source": [
    "def faixa(df):\n",
    "    idade = []\n",
    "    for dados in df: \n",
    "        if dados <= 12:\n",
    "            idade.append('Criança')\n",
    "        elif (dados > 12) & (dados < 18):\n",
    "            idade.append('Adolecente')\n",
    "        elif (dados >= 18) & (dados < 60):\n",
    "            idade.append('Adulto')\n",
    "        else:\n",
    "            idade.append('Idoso')\n",
    "    return idade\n",
    "faixa = faixa(df_titanic['idade'])\n",
    "df_titanic['faixa_etaria'] = faixa"
   ]
  },
  {
   "cell_type": "code",
   "execution_count": 557,
   "metadata": {
    "colab": {
     "base_uri": "https://localhost:8080/",
     "height": 0
    },
    "id": "32ma004GKqqA",
    "outputId": "0740bd9f-0f23-441d-877e-4672489d8dd5"
   },
   "outputs": [
    {
     "data": {
      "text/html": [
       "<div>\n",
       "<style scoped>\n",
       "    .dataframe tbody tr th:only-of-type {\n",
       "        vertical-align: middle;\n",
       "    }\n",
       "\n",
       "    .dataframe tbody tr th {\n",
       "        vertical-align: top;\n",
       "    }\n",
       "\n",
       "    .dataframe thead th {\n",
       "        text-align: right;\n",
       "    }\n",
       "</style>\n",
       "<table border=\"1\" class=\"dataframe\">\n",
       "  <thead>\n",
       "    <tr style=\"text-align: right;\">\n",
       "      <th></th>\n",
       "      <th>id_passageiro</th>\n",
       "      <th>classe</th>\n",
       "      <th>sobreviveu</th>\n",
       "      <th>sexo</th>\n",
       "      <th>idade</th>\n",
       "      <th>irmaos_conjuges</th>\n",
       "      <th>pais_filhos</th>\n",
       "      <th>tarifa</th>\n",
       "      <th>embarque</th>\n",
       "      <th>total_parentes</th>\n",
       "      <th>faixa_etaria</th>\n",
       "    </tr>\n",
       "  </thead>\n",
       "  <tbody>\n",
       "    <tr>\n",
       "      <th>150</th>\n",
       "      <td>151</td>\n",
       "      <td>Alta</td>\n",
       "      <td>0</td>\n",
       "      <td>Homem</td>\n",
       "      <td>40</td>\n",
       "      <td>0</td>\n",
       "      <td>0</td>\n",
       "      <td>0.0000</td>\n",
       "      <td>Southampton</td>\n",
       "      <td>0</td>\n",
       "      <td>Adulto</td>\n",
       "    </tr>\n",
       "    <tr>\n",
       "      <th>682</th>\n",
       "      <td>683</td>\n",
       "      <td>Baixa</td>\n",
       "      <td>0</td>\n",
       "      <td>Mulher</td>\n",
       "      <td>29</td>\n",
       "      <td>0</td>\n",
       "      <td>2</td>\n",
       "      <td>7.7500</td>\n",
       "      <td>Queenstown</td>\n",
       "      <td>2</td>\n",
       "      <td>Adulto</td>\n",
       "    </tr>\n",
       "    <tr>\n",
       "      <th>310</th>\n",
       "      <td>311</td>\n",
       "      <td>Alta</td>\n",
       "      <td>0</td>\n",
       "      <td>Homem</td>\n",
       "      <td>57</td>\n",
       "      <td>1</td>\n",
       "      <td>1</td>\n",
       "      <td>164.8667</td>\n",
       "      <td>Southampton</td>\n",
       "      <td>2</td>\n",
       "      <td>Adulto</td>\n",
       "    </tr>\n",
       "    <tr>\n",
       "      <th>301</th>\n",
       "      <td>302</td>\n",
       "      <td>Alta</td>\n",
       "      <td>0</td>\n",
       "      <td>Homem</td>\n",
       "      <td>47</td>\n",
       "      <td>0</td>\n",
       "      <td>0</td>\n",
       "      <td>34.0208</td>\n",
       "      <td>Southampton</td>\n",
       "      <td>0</td>\n",
       "      <td>Adulto</td>\n",
       "    </tr>\n",
       "    <tr>\n",
       "      <th>337</th>\n",
       "      <td>338</td>\n",
       "      <td>Média</td>\n",
       "      <td>1</td>\n",
       "      <td>Mulher</td>\n",
       "      <td>19</td>\n",
       "      <td>1</td>\n",
       "      <td>0</td>\n",
       "      <td>26.0000</td>\n",
       "      <td>Southampton</td>\n",
       "      <td>1</td>\n",
       "      <td>Adulto</td>\n",
       "    </tr>\n",
       "    <tr>\n",
       "      <th>58</th>\n",
       "      <td>59</td>\n",
       "      <td>Alta</td>\n",
       "      <td>0</td>\n",
       "      <td>Homem</td>\n",
       "      <td>49</td>\n",
       "      <td>0</td>\n",
       "      <td>0</td>\n",
       "      <td>26.0000</td>\n",
       "      <td>Southampton</td>\n",
       "      <td>0</td>\n",
       "      <td>Adulto</td>\n",
       "    </tr>\n",
       "    <tr>\n",
       "      <th>1232</th>\n",
       "      <td>1233</td>\n",
       "      <td>Baixa</td>\n",
       "      <td>1</td>\n",
       "      <td>Homem</td>\n",
       "      <td>16</td>\n",
       "      <td>0</td>\n",
       "      <td>0</td>\n",
       "      <td>8.0500</td>\n",
       "      <td>Southampton</td>\n",
       "      <td>0</td>\n",
       "      <td>Adolecente</td>\n",
       "    </tr>\n",
       "    <tr>\n",
       "      <th>916</th>\n",
       "      <td>917</td>\n",
       "      <td>Baixa</td>\n",
       "      <td>1</td>\n",
       "      <td>Mulher</td>\n",
       "      <td>4</td>\n",
       "      <td>0</td>\n",
       "      <td>1</td>\n",
       "      <td>13.4167</td>\n",
       "      <td>Cherbourg</td>\n",
       "      <td>1</td>\n",
       "      <td>Criança</td>\n",
       "    </tr>\n",
       "    <tr>\n",
       "      <th>421</th>\n",
       "      <td>422</td>\n",
       "      <td>Média</td>\n",
       "      <td>0</td>\n",
       "      <td>Homem</td>\n",
       "      <td>24</td>\n",
       "      <td>0</td>\n",
       "      <td>0</td>\n",
       "      <td>13.5000</td>\n",
       "      <td>Southampton</td>\n",
       "      <td>0</td>\n",
       "      <td>Adulto</td>\n",
       "    </tr>\n",
       "    <tr>\n",
       "      <th>1227</th>\n",
       "      <td>1228</td>\n",
       "      <td>Baixa</td>\n",
       "      <td>0</td>\n",
       "      <td>Mulher</td>\n",
       "      <td>22</td>\n",
       "      <td>0</td>\n",
       "      <td>0</td>\n",
       "      <td>9.8375</td>\n",
       "      <td>Southampton</td>\n",
       "      <td>0</td>\n",
       "      <td>Adulto</td>\n",
       "    </tr>\n",
       "    <tr>\n",
       "      <th>153</th>\n",
       "      <td>154</td>\n",
       "      <td>Alta</td>\n",
       "      <td>1</td>\n",
       "      <td>Mulher</td>\n",
       "      <td>24</td>\n",
       "      <td>0</td>\n",
       "      <td>0</td>\n",
       "      <td>83.1583</td>\n",
       "      <td>Cherbourg</td>\n",
       "      <td>0</td>\n",
       "      <td>Adulto</td>\n",
       "    </tr>\n",
       "    <tr>\n",
       "      <th>209</th>\n",
       "      <td>210</td>\n",
       "      <td>Alta</td>\n",
       "      <td>1</td>\n",
       "      <td>Homem</td>\n",
       "      <td>30</td>\n",
       "      <td>1</td>\n",
       "      <td>0</td>\n",
       "      <td>57.7500</td>\n",
       "      <td>Cherbourg</td>\n",
       "      <td>1</td>\n",
       "      <td>Adulto</td>\n",
       "    </tr>\n",
       "    <tr>\n",
       "      <th>1122</th>\n",
       "      <td>1123</td>\n",
       "      <td>Baixa</td>\n",
       "      <td>1</td>\n",
       "      <td>Mulher</td>\n",
       "      <td>29</td>\n",
       "      <td>1</td>\n",
       "      <td>1</td>\n",
       "      <td>22.3583</td>\n",
       "      <td>Cherbourg</td>\n",
       "      <td>2</td>\n",
       "      <td>Adulto</td>\n",
       "    </tr>\n",
       "    <tr>\n",
       "      <th>1084</th>\n",
       "      <td>1085</td>\n",
       "      <td>Baixa</td>\n",
       "      <td>0</td>\n",
       "      <td>Homem</td>\n",
       "      <td>42</td>\n",
       "      <td>0</td>\n",
       "      <td>1</td>\n",
       "      <td>8.4042</td>\n",
       "      <td>Southampton</td>\n",
       "      <td>1</td>\n",
       "      <td>Adulto</td>\n",
       "    </tr>\n",
       "    <tr>\n",
       "      <th>443</th>\n",
       "      <td>444</td>\n",
       "      <td>Média</td>\n",
       "      <td>0</td>\n",
       "      <td>Homem</td>\n",
       "      <td>32</td>\n",
       "      <td>2</td>\n",
       "      <td>0</td>\n",
       "      <td>73.5000</td>\n",
       "      <td>Southampton</td>\n",
       "      <td>2</td>\n",
       "      <td>Adulto</td>\n",
       "    </tr>\n",
       "    <tr>\n",
       "      <th>960</th>\n",
       "      <td>961</td>\n",
       "      <td>Baixa</td>\n",
       "      <td>0</td>\n",
       "      <td>Homem</td>\n",
       "      <td>35</td>\n",
       "      <td>0</td>\n",
       "      <td>0</td>\n",
       "      <td>6.4375</td>\n",
       "      <td>Cherbourg</td>\n",
       "      <td>0</td>\n",
       "      <td>Adulto</td>\n",
       "    </tr>\n",
       "    <tr>\n",
       "      <th>858</th>\n",
       "      <td>859</td>\n",
       "      <td>Baixa</td>\n",
       "      <td>1</td>\n",
       "      <td>Homem</td>\n",
       "      <td>29</td>\n",
       "      <td>0</td>\n",
       "      <td>0</td>\n",
       "      <td>56.4958</td>\n",
       "      <td>Southampton</td>\n",
       "      <td>0</td>\n",
       "      <td>Adulto</td>\n",
       "    </tr>\n",
       "    <tr>\n",
       "      <th>816</th>\n",
       "      <td>817</td>\n",
       "      <td>Baixa</td>\n",
       "      <td>0</td>\n",
       "      <td>Homem</td>\n",
       "      <td>29</td>\n",
       "      <td>0</td>\n",
       "      <td>0</td>\n",
       "      <td>7.8958</td>\n",
       "      <td>Cherbourg</td>\n",
       "      <td>0</td>\n",
       "      <td>Adulto</td>\n",
       "    </tr>\n",
       "    <tr>\n",
       "      <th>79</th>\n",
       "      <td>80</td>\n",
       "      <td>Alta</td>\n",
       "      <td>1</td>\n",
       "      <td>Mulher</td>\n",
       "      <td>55</td>\n",
       "      <td>2</td>\n",
       "      <td>0</td>\n",
       "      <td>25.7000</td>\n",
       "      <td>Southampton</td>\n",
       "      <td>2</td>\n",
       "      <td>Adulto</td>\n",
       "    </tr>\n",
       "    <tr>\n",
       "      <th>787</th>\n",
       "      <td>788</td>\n",
       "      <td>Baixa</td>\n",
       "      <td>0</td>\n",
       "      <td>Homem</td>\n",
       "      <td>16</td>\n",
       "      <td>0</td>\n",
       "      <td>0</td>\n",
       "      <td>7.7750</td>\n",
       "      <td>Southampton</td>\n",
       "      <td>0</td>\n",
       "      <td>Adolecente</td>\n",
       "    </tr>\n",
       "  </tbody>\n",
       "</table>\n",
       "</div>"
      ],
      "text/plain": [
       "      id_passageiro classe  ...  total_parentes faixa_etaria\n",
       "150             151   Alta  ...               0       Adulto\n",
       "682             683  Baixa  ...               2       Adulto\n",
       "310             311   Alta  ...               2       Adulto\n",
       "301             302   Alta  ...               0       Adulto\n",
       "337             338  Média  ...               1       Adulto\n",
       "58               59   Alta  ...               0       Adulto\n",
       "1232           1233  Baixa  ...               0   Adolecente\n",
       "916             917  Baixa  ...               1      Criança\n",
       "421             422  Média  ...               0       Adulto\n",
       "1227           1228  Baixa  ...               0       Adulto\n",
       "153             154   Alta  ...               0       Adulto\n",
       "209             210   Alta  ...               1       Adulto\n",
       "1122           1123  Baixa  ...               2       Adulto\n",
       "1084           1085  Baixa  ...               1       Adulto\n",
       "443             444  Média  ...               2       Adulto\n",
       "960             961  Baixa  ...               0       Adulto\n",
       "858             859  Baixa  ...               0       Adulto\n",
       "816             817  Baixa  ...               0       Adulto\n",
       "79               80   Alta  ...               2       Adulto\n",
       "787             788  Baixa  ...               0   Adolecente\n",
       "\n",
       "[20 rows x 11 columns]"
      ]
     },
     "execution_count": 557,
     "metadata": {},
     "output_type": "execute_result"
    }
   ],
   "source": [
    "df_titanic.sample(20)"
   ]
  },
  {
   "cell_type": "markdown",
   "metadata": {
    "id": "fxU0O4gJhVin"
   },
   "source": [
    "# 3. Análise dos Dados"
   ]
  },
  {
   "cell_type": "markdown",
   "metadata": {
    "id": "v_theux5qAOV"
   },
   "source": [
    "### funções"
   ]
  },
  {
   "cell_type": "code",
   "execution_count": 571,
   "metadata": {
    "id": "Nzqy90kBSsfx"
   },
   "outputs": [],
   "source": [
    "def pcm(grupamento,total):\n",
    "    a = str(round(grupamento*100/total,2))\n",
    "    a = a+'%'\n",
    "    return a\n",
    "def consulta(orientacao):\n",
    "    grupamento = []\n",
    "    grupamento.append(df_titanic[orientacao].loc[df_titanic['sobreviveu'] == 1].value_counts())\n",
    "    grupamento[0].rename('sobreviventes',axis=1, inplace= True)\n",
    "    grupamento.append(df_titanic[orientacao].value_counts())\n",
    "    grupamento[1].rename('Total_Pessoas',axis=1, inplace= True)\n",
    "    return grupamento\n",
    "def printt(todos,sobreviventes,s1):\n",
    "    h_m = pd.concat([todos,sobreviventes,s1],axis=1).sort_values(by='Percentual')\n",
    "    return h_m"
   ]
  },
  {
   "cell_type": "markdown",
   "metadata": {
    "id": "wBbh2ygnhq17"
   },
   "source": [
    "## 3.1. Qual é o número de Sobreviventes?"
   ]
  },
  {
   "cell_type": "code",
   "execution_count": 572,
   "metadata": {
    "colab": {
     "base_uri": "https://localhost:8080/",
     "height": 143
    },
    "id": "cll5mUjPLbvj",
    "outputId": "ef6a95bb-29e8-4c25-992f-31564c0d2525"
   },
   "outputs": [
    {
     "data": {
      "text/html": [
       "<style  type=\"text/css\" >\n",
       "</style><table id=\"T_f1fcd5e4_50c7_11ec_9e1a_0242ac1c0002\" class=\"dataframe\"><thead>    <tr>        <th class=\"blank level0\" ></th>        <th class=\"col_heading level0 col0\" >Pessoas</th>        <th class=\"col_heading level0 col1\" >Percentual</th>    </tr></thead><tbody>\n",
       "                <tr>\n",
       "                        <th id=\"T_f1fcd5e4_50c7_11ec_9e1a_0242ac1c0002level0_row0\" class=\"row_heading level0 row0\" >Falecidos</th>\n",
       "                        <td id=\"T_f1fcd5e4_50c7_11ec_9e1a_0242ac1c0002row0_col0\" class=\"data row0 col0\" >809</td>\n",
       "                        <td id=\"T_f1fcd5e4_50c7_11ec_9e1a_0242ac1c0002row0_col1\" class=\"data row0 col1\" >61.90%</td>\n",
       "            </tr>\n",
       "            <tr>\n",
       "                        <th id=\"T_f1fcd5e4_50c7_11ec_9e1a_0242ac1c0002level0_row1\" class=\"row_heading level0 row1\" >Sobreviventes</th>\n",
       "                        <td id=\"T_f1fcd5e4_50c7_11ec_9e1a_0242ac1c0002row1_col0\" class=\"data row1 col0\" >498</td>\n",
       "                        <td id=\"T_f1fcd5e4_50c7_11ec_9e1a_0242ac1c0002row1_col1\" class=\"data row1 col1\" >38.10%</td>\n",
       "            </tr>\n",
       "            <tr>\n",
       "                        <th id=\"T_f1fcd5e4_50c7_11ec_9e1a_0242ac1c0002level0_row2\" class=\"row_heading level0 row2\" >Total</th>\n",
       "                        <td id=\"T_f1fcd5e4_50c7_11ec_9e1a_0242ac1c0002row2_col0\" class=\"data row2 col0\" >1,307</td>\n",
       "                        <td id=\"T_f1fcd5e4_50c7_11ec_9e1a_0242ac1c0002row2_col1\" class=\"data row2 col1\" >100.00%</td>\n",
       "            </tr>\n",
       "    </tbody></table>"
      ],
      "text/plain": [
       "<pandas.io.formats.style.Styler at 0x7f7944950d10>"
      ]
     },
     "execution_count": 572,
     "metadata": {},
     "output_type": "execute_result"
    }
   ],
   "source": [
    "tabela_sobrevivente = pd.merge(left= df_titanic['sobreviveu'].value_counts(),right= df_titanic['sobreviveu'].value_counts(normalize=True),left_index=True,right_index=True)\n",
    "tabela_sobrevivente = tabela_sobrevivente.append(tabela_sobrevivente.sum(),ignore_index=True)\n",
    "tabela_sobrevivente.rename(columns={'sobreviveu_x': 'Pessoas','sobreviveu_y': 'Percentual'},index={0:'Falecidos',1:'Sobreviventes',2:'Total'}, inplace=True)\n",
    "tabela_sobrevivente.style.format({'Pessoas': '{:,.0f}','Percentual': '{:.2%}'})"
   ]
  },
  {
   "cell_type": "markdown",
   "metadata": {
    "id": "MgFCm_tKqHPf"
   },
   "source": [
    "## 3.2. Homens ou mulheres tiveram mais chances de sobreviver?"
   ]
  },
  {
   "cell_type": "code",
   "execution_count": 573,
   "metadata": {
    "colab": {
     "base_uri": "https://localhost:8080/",
     "height": 112
    },
    "id": "556bRiv3iQRm",
    "outputId": "ee2ea23f-9206-43b1-e8c2-4afec5ad3d49"
   },
   "outputs": [
    {
     "data": {
      "text/html": [
       "<div>\n",
       "<style scoped>\n",
       "    .dataframe tbody tr th:only-of-type {\n",
       "        vertical-align: middle;\n",
       "    }\n",
       "\n",
       "    .dataframe tbody tr th {\n",
       "        vertical-align: top;\n",
       "    }\n",
       "\n",
       "    .dataframe thead th {\n",
       "        text-align: right;\n",
       "    }\n",
       "</style>\n",
       "<table border=\"1\" class=\"dataframe\">\n",
       "  <thead>\n",
       "    <tr style=\"text-align: right;\">\n",
       "      <th></th>\n",
       "      <th>Total_Pessoas</th>\n",
       "      <th>sobreviventes</th>\n",
       "      <th>Percentual</th>\n",
       "    </tr>\n",
       "  </thead>\n",
       "  <tbody>\n",
       "    <tr>\n",
       "      <th>Homem</th>\n",
       "      <td>843</td>\n",
       "      <td>161</td>\n",
       "      <td>19.1%</td>\n",
       "    </tr>\n",
       "    <tr>\n",
       "      <th>Mulher</th>\n",
       "      <td>464</td>\n",
       "      <td>337</td>\n",
       "      <td>72.63%</td>\n",
       "    </tr>\n",
       "  </tbody>\n",
       "</table>\n",
       "</div>"
      ],
      "text/plain": [
       "        Total_Pessoas  sobreviventes Percentual\n",
       "Homem             843            161      19.1%\n",
       "Mulher            464            337     72.63%"
      ]
     },
     "execution_count": 573,
     "metadata": {},
     "output_type": "execute_result"
    }
   ],
   "source": [
    "grupamento = consulta('sexo')\n",
    "sobreviventes,todos = grupamento[0].sort_values(),grupamento[1]\n",
    "s1 = pd.Series([pcm(sobreviventes[0],todos[0]),pcm(sobreviventes[1],todos[1])], index=['Homem', 'Mulher'], name='Percentual')\n",
    "printt(todos,sobreviventes,s1)"
   ]
  },
  {
   "cell_type": "markdown",
   "metadata": {
    "id": "CclCDyh_smw0"
   },
   "source": [
    "## 3.3. Qual classe social teve mais sobreviventes?"
   ]
  },
  {
   "cell_type": "code",
   "execution_count": 574,
   "metadata": {
    "colab": {
     "base_uri": "https://localhost:8080/",
     "height": 143
    },
    "id": "kxySZmHxRN4G",
    "outputId": "c491878d-c4f7-4af5-b0a8-eb875d7e58ab"
   },
   "outputs": [
    {
     "data": {
      "text/html": [
       "<div>\n",
       "<style scoped>\n",
       "    .dataframe tbody tr th:only-of-type {\n",
       "        vertical-align: middle;\n",
       "    }\n",
       "\n",
       "    .dataframe tbody tr th {\n",
       "        vertical-align: top;\n",
       "    }\n",
       "\n",
       "    .dataframe thead th {\n",
       "        text-align: right;\n",
       "    }\n",
       "</style>\n",
       "<table border=\"1\" class=\"dataframe\">\n",
       "  <thead>\n",
       "    <tr style=\"text-align: right;\">\n",
       "      <th></th>\n",
       "      <th>Total_Pessoas</th>\n",
       "      <th>sobreviventes</th>\n",
       "      <th>Percentual</th>\n",
       "    </tr>\n",
       "  </thead>\n",
       "  <tbody>\n",
       "    <tr>\n",
       "      <th>Baixa</th>\n",
       "      <td>709</td>\n",
       "      <td>181</td>\n",
       "      <td>25.53%</td>\n",
       "    </tr>\n",
       "    <tr>\n",
       "      <th>Média</th>\n",
       "      <td>277</td>\n",
       "      <td>119</td>\n",
       "      <td>42.96%</td>\n",
       "    </tr>\n",
       "    <tr>\n",
       "      <th>Alta</th>\n",
       "      <td>321</td>\n",
       "      <td>198</td>\n",
       "      <td>61.68%</td>\n",
       "    </tr>\n",
       "  </tbody>\n",
       "</table>\n",
       "</div>"
      ],
      "text/plain": [
       "       Total_Pessoas  sobreviventes Percentual\n",
       "Baixa            709            181     25.53%\n",
       "Média            277            119     42.96%\n",
       "Alta             321            198     61.68%"
      ]
     },
     "execution_count": 574,
     "metadata": {},
     "output_type": "execute_result"
    }
   ],
   "source": [
    "grupamento = consulta('classe')\n",
    "sobreviventes,todos= grupamento[0],grupamento[1]\n",
    "s1 = pd.Series([pcm(sobreviventes[1],todos[0]),pcm(sobreviventes[2],todos[2]),pcm(sobreviventes[0],todos[1])], index=['Baixa', 'Média','Alta'], name='Percentual')\n",
    "printt(todos,sobreviventes,s1)"
   ]
  },
  {
   "cell_type": "markdown",
   "metadata": {
    "id": "_MQ7lJNlssoB"
   },
   "source": [
    "## 3.4. Qual faixa etária teve mais chances de sobreviver?"
   ]
  },
  {
   "cell_type": "code",
   "execution_count": 575,
   "metadata": {
    "colab": {
     "base_uri": "https://localhost:8080/",
     "height": 175
    },
    "id": "bFiz73Yexndq",
    "outputId": "4014c4f2-7dcc-4e77-bb59-080f40d83228"
   },
   "outputs": [
    {
     "data": {
      "text/html": [
       "<div>\n",
       "<style scoped>\n",
       "    .dataframe tbody tr th:only-of-type {\n",
       "        vertical-align: middle;\n",
       "    }\n",
       "\n",
       "    .dataframe tbody tr th {\n",
       "        vertical-align: top;\n",
       "    }\n",
       "\n",
       "    .dataframe thead th {\n",
       "        text-align: right;\n",
       "    }\n",
       "</style>\n",
       "<table border=\"1\" class=\"dataframe\">\n",
       "  <thead>\n",
       "    <tr style=\"text-align: right;\">\n",
       "      <th></th>\n",
       "      <th>Total_Pessoas</th>\n",
       "      <th>sobreviventes</th>\n",
       "      <th>Percentual</th>\n",
       "    </tr>\n",
       "  </thead>\n",
       "  <tbody>\n",
       "    <tr>\n",
       "      <th>Idoso</th>\n",
       "      <td>39</td>\n",
       "      <td>11</td>\n",
       "      <td>28.21%</td>\n",
       "    </tr>\n",
       "    <tr>\n",
       "      <th>Adulto</th>\n",
       "      <td>1114</td>\n",
       "      <td>406</td>\n",
       "      <td>36.45%</td>\n",
       "    </tr>\n",
       "    <tr>\n",
       "      <th>Adolecente</th>\n",
       "      <td>60</td>\n",
       "      <td>27</td>\n",
       "      <td>45.0%</td>\n",
       "    </tr>\n",
       "    <tr>\n",
       "      <th>Criança</th>\n",
       "      <td>94</td>\n",
       "      <td>54</td>\n",
       "      <td>57.45%</td>\n",
       "    </tr>\n",
       "  </tbody>\n",
       "</table>\n",
       "</div>"
      ],
      "text/plain": [
       "            Total_Pessoas  sobreviventes Percentual\n",
       "Idoso                  39             11     28.21%\n",
       "Adulto               1114            406     36.45%\n",
       "Adolecente             60             27      45.0%\n",
       "Criança                94             54     57.45%"
      ]
     },
     "execution_count": 575,
     "metadata": {},
     "output_type": "execute_result"
    }
   ],
   "source": [
    "grupamento=consulta('faixa_etaria') \n",
    "sobreviventes,todos= grupamento[0],grupamento[1]\n",
    "s1 = pd.Series([pcm(sobreviventes[0],todos[0]),pcm(sobreviventes[1],todos[1]),pcm(sobreviventes[2],todos[2]),pcm(sobreviventes[3],todos[3])], index=['Adulto', 'Criança','Adolecente','Idoso'], name='Percentual')\n",
    "printt(todos,sobreviventes,s1)"
   ]
  },
  {
   "cell_type": "markdown",
   "metadata": {
    "id": "u-7NbAn40ICj"
   },
   "source": [
    "# REFERÊNCIAS"
   ]
  },
  {
   "cell_type": "markdown",
   "metadata": {
    "id": "2lsSsOsA0PIR"
   },
   "source": [
    "\n",
    "\n",
    "*   [Titanic: Machine Learning from Disaster](https://www.kaggle.com/c/titanic/data)\n",
    "*   [Encyclopedia Titanica](https://www.encyclopedia-titanica.org/)\n",
    "*   [Basic Feature Engineering with the Titanic Data](https://triangleinequality.wordpress.com/2013/09/08/basic-feature-engineering-with-the-titanic-data/)\n",
    "*   Hind, Philip.  \\\"Encyclopedia Titanica.\\\"  Online.  Internet. n.p.  02 Aug 1999.\n",
    "\n"
   ]
  }
 ],
 "metadata": {
  "colab": {
   "collapsed_sections": [
    "P0vtl8WzEYd8",
    "V7yLDWLEOCz5",
    "pFiCGT2eOQFx",
    "2KU_gBkwKlZT",
    "_AnxPe2mVo68",
    "j1ltnPl_KpQ2",
    "IFvyXiAHK7yQ",
    "LOwYhVymUdL-",
    "yEcKMJv_Lbx1",
    "HtRD3UcoMOvz",
    "5KR6X3D_MYsW",
    "S5TkyORLRmxu",
    "ii85K6h9hX0P",
    "In5bS2nkg0UP",
    "MBNxzjT8g5Ws"
   ],
   "name": "Titanic.ipynb",
   "provenance": []
  },
  "kernelspec": {
   "display_name": "Python 3",
   "language": "python",
   "name": "python3"
  },
  "language_info": {
   "codemirror_mode": {
    "name": "ipython",
    "version": 3
   },
   "file_extension": ".py",
   "mimetype": "text/x-python",
   "name": "python",
   "nbconvert_exporter": "python",
   "pygments_lexer": "ipython3",
   "version": "3.8.8"
  }
 },
 "nbformat": 4,
 "nbformat_minor": 1
}
