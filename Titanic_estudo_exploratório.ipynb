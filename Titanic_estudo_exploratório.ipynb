{
 "cells": [
  {
   "cell_type": "markdown",
   "metadata": {
    "id": "P0vtl8WzEYd8"
   },
   "source": [
    "# Análise de Dados Exploratória do Titanic"
   ]
  },
  {
   "cell_type": "markdown",
   "metadata": {
    "id": "V7yLDWLEOCz5"
   },
   "source": [
    "# 1. Introdução\n",
    "O RMS Titanic foi um navio de passageiros britânico operado pela empresa White Star Line que afundou no Oceano Atlântico Norte nas primeiras horas da manhã de 15 de abril de 1912, depois de atingir um iceberg durante sua viagem inaugural de Southampton a Nova York. Dos 2.224 passageiros e tripulantes a bordo, mais de 1.500 morreram, tornando o naufrágio um dos desastres marítimos comerciais mais mortais da história moderna em tempos de paz.\n",
    "\n",
    "Neste estudo iremos explorar um conjunto de dados baseado na lista de passageiros do Titanic editada por Michael A. Findlay, publicada originalmente em Eaton & Haas (1994) Titanic: Triumph and Tragedy, Patrick Stephens Ltd, e expandida com a ajuda da comunidade da Internet. Os arquivos HTML originais foram obtidos por Philip Hind (1999) e o dataset descreve o status de sobrevivência de passageiros individuais no Titanic. Ele não contém informações para a tripulação, mas contém idades atuais e estimadas para quase 80% dos passageiros."
   ]
  },
  {
   "cell_type": "markdown",
   "metadata": {
    "id": "pFiCGT2eOQFx"
   },
   "source": [
    "## 1.1 Objetivos\n",
    "O objetivo deste estudo é realizar uma Análise Exploratória dos Dados (Exploratory Data Analysis - EDA) do conjunto de dados titanic3, adaptado pelo autor e disponível em [data/titanic3.csv](https://github.com/profdiegoaugusto/analise-dados/blob/master/Pandas/titanic-eda/data/titanic3.csv) ; a fim de caracterizar o perfil dos sobreviventes do fatídico naufrágio. Especificiamente serão respondidas as seguintes questões de pesquisa:\n",
    "\n",
    "1. [Qual é o número de Sobreviventes?](#3.-Análise-dos-Dados)\n",
    "2. [Homens ou mulheres tiveram mais chances de sobreviver?](#3.1.-Qual-é-o-número-de-Sobreviventes?)\n",
    "3. [Qual classe social teve mais sobreviventes?](#3.2.-Homens-ou-mulheres-tiveram-mais-chances-de-sobreviver?)\n",
    "4. [Qual faixa etária teve mais chances de sobreviver?](#3.3.-Qual-classe-social-teve-mais-sobreviventes?)"
   ]
  },
  {
   "cell_type": "markdown",
   "metadata": {
    "id": "Y2nxoB78PDzg"
   },
   "source": [
    "# 2. Metodologia\n",
    "Nesta seção será apresentado todo o processo de preparação, organização e limpeza de dados feito no dataset que possui os seguintes dados:"
   ]
  },
  {
   "cell_type": "markdown",
   "metadata": {},
   "source": [
    "| Coluna | Descrição |   \n",
    "|---------|--------|\n",
    "| id_passageiro   | Identficador único do passageiro. |\n",
    "|     classe    |     Classe social.   |\n",
    "|      sobreviveu   |     Sobrevivente? Sim (1), Não (0).\n",
    "|nome|Masculino (male), Feminino (female).|\n",
    "|sexo|Masculino (male), Feminino (female).|\n",
    "|idade|Idade do passageiro.|\n",
    "|irmaos_conjuges|Número de irmãos e cônjuges a bordo.|\n",
    "|pais_filhos|Número de pais e filhos a bordo.|\n",
    "|bilhete|Número do bilhete|\n",
    "|tarifa|Preço da tarifa do passageiro.|\n",
    "|cabine|Cabine.|\n",
    "|embarque|Nome do porto de embarque: C = Cherbourg; Q = Queenstown; S = Southampton|\n",
    "|bote|Bote salva vidas.|\n",
    "|corpo|Número de identificação do corpo.|\n",
    "|destino|Local de desembarque do passageiro.|"
   ]
  },
  {
   "cell_type": "markdown",
   "metadata": {},
   "source": [
    "# OBSERVAÇÕES"
   ]
  },
  {
   "cell_type": "markdown",
   "metadata": {},
   "source": [
    "<ul>\n",
    "<li><code>classe</code> é uma aproximação do status socioeconômico na época, onde: 1 = Classe Alta1; 2 = Classe Média e 3 = Classe Baixa;</li>\n",
    "<li><code>idade</code> está representada em anos, porém, se a idade for menor que Um (1) ou caso tenha sido estimada, ela estará com casas decimais xx.5;</li>\n",
    "<li><code>tarifa</code> está em Libras esterlinas (British Pounds - £) anteriores a 1970;</li>\n",
    "<li><code>irmaos_conjuges</code> e <code>pais_filhos</code>: as variáveis de relação familiar de algumas relações foram ignoradas; a seguir estão as definições usadas:</li>\n",
    "<ul>\n",
    "<li><b>Irmão</b>: Irmão, irmã, meio-irmão ou meia-irmã do passageiro a bordo do Titanic;</li>\n",
    "<li><b>Cônjuge</b>: Marido ou esposa do passageiro a bordo do Titanic (amantes e noivos ignorados);</li>\n",
    "<li><b>Pai</b>: Mãe ou pai do passageiro a bordo do Titanic;</li>\n",
    "<li><b>Criança</b>: Filho, Filha, Enteado ou Enteada do Passageiro a bordo do Titanic;</li>\n",
    "<li>Outros parentes excluídos deste estudo incluem primos, sobrinhos / sobrinhas, tias / tios e parentes;</li>\n",
    "<li>Algumas crianças viajavam apenas com uma babá, portanto foi atribuído 0 para elas em pais_filhos;</li>\n",
    "<li>Alguns viajaram com amigos ou vizinhos muito próximos em uma vila, no entanto, as definições não apóiam essas relações.</li>\n",
    "<ul>\n",
    "</ul>"
   ]
  },
  {
   "cell_type": "markdown",
   "metadata": {
    "id": "2KU_gBkwKlZT"
   },
   "source": [
    "## 2.1. Configuração do Ambiente"
   ]
  },
  {
   "cell_type": "code",
   "execution_count": 8,
   "metadata": {
    "id": "nDHAme-cEddv"
   },
   "outputs": [],
   "source": [
    "import pandas as pd"
   ]
  },
  {
   "cell_type": "markdown",
   "metadata": {
    "id": "_AnxPe2mVo68"
   },
   "source": [
    "## 2.2. Leitura dos Dados"
   ]
  },
  {
   "cell_type": "code",
   "execution_count": 9,
   "metadata": {
    "id": "boafyUmBVQZX"
   },
   "outputs": [],
   "source": [
    "dados_brutos = pd.read_csv(\"data/titanic3.csv\")"
   ]
  },
  {
   "cell_type": "markdown",
   "metadata": {
    "id": "j1ltnPl_KpQ2"
   },
   "source": [
    "## 2.3. Organização e Limpeza dos Dados"
   ]
  },
  {
   "cell_type": "markdown",
   "metadata": {
    "id": "IFvyXiAHK7yQ"
   },
   "source": [
    "### 2.3.1. Visão Geral do Conjunto de Dados"
   ]
  },
  {
   "cell_type": "code",
   "execution_count": 10,
   "metadata": {},
   "outputs": [
    {
     "data": {
      "text/html": [
       "<div>\n",
       "<style scoped>\n",
       "    .dataframe tbody tr th:only-of-type {\n",
       "        vertical-align: middle;\n",
       "    }\n",
       "\n",
       "    .dataframe tbody tr th {\n",
       "        vertical-align: top;\n",
       "    }\n",
       "\n",
       "    .dataframe thead th {\n",
       "        text-align: right;\n",
       "    }\n",
       "</style>\n",
       "<table border=\"1\" class=\"dataframe\">\n",
       "  <thead>\n",
       "    <tr style=\"text-align: right;\">\n",
       "      <th></th>\n",
       "      <th>id_passageiro</th>\n",
       "      <th>classe</th>\n",
       "      <th>sobreviveu</th>\n",
       "      <th>nome</th>\n",
       "      <th>sexo</th>\n",
       "      <th>idade</th>\n",
       "      <th>irmaos_conjuges</th>\n",
       "      <th>pais_filhos</th>\n",
       "      <th>bilhete</th>\n",
       "      <th>tarifa</th>\n",
       "      <th>cabine</th>\n",
       "      <th>embarque</th>\n",
       "      <th>bote</th>\n",
       "      <th>corpo</th>\n",
       "      <th>destino</th>\n",
       "    </tr>\n",
       "  </thead>\n",
       "  <tbody>\n",
       "    <tr>\n",
       "      <th>0</th>\n",
       "      <td>1</td>\n",
       "      <td>1</td>\n",
       "      <td>1</td>\n",
       "      <td>Allen, Miss. Elisabeth Walton</td>\n",
       "      <td>female</td>\n",
       "      <td>29.0</td>\n",
       "      <td>0</td>\n",
       "      <td>0</td>\n",
       "      <td>24160</td>\n",
       "      <td>211.3375</td>\n",
       "      <td>B5</td>\n",
       "      <td>S</td>\n",
       "      <td>2</td>\n",
       "      <td>NaN</td>\n",
       "      <td>St Louis, MO</td>\n",
       "    </tr>\n",
       "    <tr>\n",
       "      <th>1</th>\n",
       "      <td>2</td>\n",
       "      <td>1</td>\n",
       "      <td>1</td>\n",
       "      <td>Allison, Master. Hudson Trevor</td>\n",
       "      <td>male</td>\n",
       "      <td>1.0</td>\n",
       "      <td>1</td>\n",
       "      <td>2</td>\n",
       "      <td>113781</td>\n",
       "      <td>151.5500</td>\n",
       "      <td>C22 C26</td>\n",
       "      <td>S</td>\n",
       "      <td>11</td>\n",
       "      <td>NaN</td>\n",
       "      <td>Montreal, PQ / Chesterville, ON</td>\n",
       "    </tr>\n",
       "    <tr>\n",
       "      <th>2</th>\n",
       "      <td>3</td>\n",
       "      <td>1</td>\n",
       "      <td>0</td>\n",
       "      <td>Allison, Miss. Helen Loraine</td>\n",
       "      <td>female</td>\n",
       "      <td>2.0</td>\n",
       "      <td>1</td>\n",
       "      <td>2</td>\n",
       "      <td>113781</td>\n",
       "      <td>151.5500</td>\n",
       "      <td>C22 C26</td>\n",
       "      <td>S</td>\n",
       "      <td>NaN</td>\n",
       "      <td>NaN</td>\n",
       "      <td>Montreal, PQ / Chesterville, ON</td>\n",
       "    </tr>\n",
       "    <tr>\n",
       "      <th>3</th>\n",
       "      <td>4</td>\n",
       "      <td>1</td>\n",
       "      <td>0</td>\n",
       "      <td>Allison, Mr. Hudson Joshua Creighton</td>\n",
       "      <td>male</td>\n",
       "      <td>30.0</td>\n",
       "      <td>1</td>\n",
       "      <td>2</td>\n",
       "      <td>113781</td>\n",
       "      <td>151.5500</td>\n",
       "      <td>C22 C26</td>\n",
       "      <td>S</td>\n",
       "      <td>NaN</td>\n",
       "      <td>135.0</td>\n",
       "      <td>Montreal, PQ / Chesterville, ON</td>\n",
       "    </tr>\n",
       "    <tr>\n",
       "      <th>4</th>\n",
       "      <td>5</td>\n",
       "      <td>1</td>\n",
       "      <td>0</td>\n",
       "      <td>Allison, Mrs. Hudson J C (Bessie Waldo Daniels)</td>\n",
       "      <td>female</td>\n",
       "      <td>25.0</td>\n",
       "      <td>1</td>\n",
       "      <td>2</td>\n",
       "      <td>113781</td>\n",
       "      <td>151.5500</td>\n",
       "      <td>C22 C26</td>\n",
       "      <td>S</td>\n",
       "      <td>NaN</td>\n",
       "      <td>NaN</td>\n",
       "      <td>Montreal, PQ / Chesterville, ON</td>\n",
       "    </tr>\n",
       "  </tbody>\n",
       "</table>\n",
       "</div>"
      ],
      "text/plain": [
       "   id_passageiro  classe  sobreviveu  \\\n",
       "0              1       1           1   \n",
       "1              2       1           1   \n",
       "2              3       1           0   \n",
       "3              4       1           0   \n",
       "4              5       1           0   \n",
       "\n",
       "                                              nome    sexo  idade  \\\n",
       "0                    Allen, Miss. Elisabeth Walton  female   29.0   \n",
       "1                   Allison, Master. Hudson Trevor    male    1.0   \n",
       "2                     Allison, Miss. Helen Loraine  female    2.0   \n",
       "3             Allison, Mr. Hudson Joshua Creighton    male   30.0   \n",
       "4  Allison, Mrs. Hudson J C (Bessie Waldo Daniels)  female   25.0   \n",
       "\n",
       "   irmaos_conjuges  pais_filhos bilhete    tarifa   cabine embarque bote  \\\n",
       "0                0            0   24160  211.3375       B5        S    2   \n",
       "1                1            2  113781  151.5500  C22 C26        S   11   \n",
       "2                1            2  113781  151.5500  C22 C26        S  NaN   \n",
       "3                1            2  113781  151.5500  C22 C26        S  NaN   \n",
       "4                1            2  113781  151.5500  C22 C26        S  NaN   \n",
       "\n",
       "   corpo                          destino  \n",
       "0    NaN                     St Louis, MO  \n",
       "1    NaN  Montreal, PQ / Chesterville, ON  \n",
       "2    NaN  Montreal, PQ / Chesterville, ON  \n",
       "3  135.0  Montreal, PQ / Chesterville, ON  \n",
       "4    NaN  Montreal, PQ / Chesterville, ON  "
      ]
     },
     "execution_count": 10,
     "metadata": {},
     "output_type": "execute_result"
    }
   ],
   "source": [
    "dados_brutos.head(5)"
   ]
  },
  {
   "cell_type": "markdown",
   "metadata": {},
   "source": [
    "### 2.3.2. Total de Linhas"
   ]
  },
  {
   "cell_type": "code",
   "execution_count": 11,
   "metadata": {},
   "outputs": [
    {
     "data": {
      "text/plain": [
       "1309"
      ]
     },
     "execution_count": 11,
     "metadata": {},
     "output_type": "execute_result"
    }
   ],
   "source": [
    "dados_brutos.shape[0]"
   ]
  },
  {
   "cell_type": "markdown",
   "metadata": {},
   "source": [
    "### 2.3.3. Total de Dados Validos"
   ]
  },
  {
   "cell_type": "code",
   "execution_count": 12,
   "metadata": {
    "colab": {
     "base_uri": "https://localhost:8080/",
     "height": 0
    },
    "id": "L0gL1KlTFAK1",
    "outputId": "2742e5aa-7b52-4682-c589-364ade4e56fc"
   },
   "outputs": [
    {
     "data": {
      "text/html": [
       "<div>\n",
       "<style scoped>\n",
       "    .dataframe tbody tr th:only-of-type {\n",
       "        vertical-align: middle;\n",
       "    }\n",
       "\n",
       "    .dataframe tbody tr th {\n",
       "        vertical-align: top;\n",
       "    }\n",
       "\n",
       "    .dataframe thead th {\n",
       "        text-align: right;\n",
       "    }\n",
       "</style>\n",
       "<table border=\"1\" class=\"dataframe\">\n",
       "  <thead>\n",
       "    <tr style=\"text-align: right;\">\n",
       "      <th></th>\n",
       "      <th>total_dados_linha</th>\n",
       "    </tr>\n",
       "  </thead>\n",
       "  <tbody>\n",
       "    <tr>\n",
       "      <th>id_passageiro</th>\n",
       "      <td>1309.0</td>\n",
       "    </tr>\n",
       "    <tr>\n",
       "      <th>classe</th>\n",
       "      <td>1309.0</td>\n",
       "    </tr>\n",
       "    <tr>\n",
       "      <th>sobreviveu</th>\n",
       "      <td>1309.0</td>\n",
       "    </tr>\n",
       "    <tr>\n",
       "      <th>idade</th>\n",
       "      <td>1046.0</td>\n",
       "    </tr>\n",
       "    <tr>\n",
       "      <th>irmaos_conjuges</th>\n",
       "      <td>1309.0</td>\n",
       "    </tr>\n",
       "    <tr>\n",
       "      <th>pais_filhos</th>\n",
       "      <td>1309.0</td>\n",
       "    </tr>\n",
       "    <tr>\n",
       "      <th>tarifa</th>\n",
       "      <td>1308.0</td>\n",
       "    </tr>\n",
       "    <tr>\n",
       "      <th>corpo</th>\n",
       "      <td>121.0</td>\n",
       "    </tr>\n",
       "  </tbody>\n",
       "</table>\n",
       "</div>"
      ],
      "text/plain": [
       "                 total_dados_linha\n",
       "id_passageiro               1309.0\n",
       "classe                      1309.0\n",
       "sobreviveu                  1309.0\n",
       "idade                       1046.0\n",
       "irmaos_conjuges             1309.0\n",
       "pais_filhos                 1309.0\n",
       "tarifa                      1308.0\n",
       "corpo                        121.0"
      ]
     },
     "execution_count": 12,
     "metadata": {},
     "output_type": "execute_result"
    }
   ],
   "source": [
    "a = pd.DataFrame(dados_brutos.describe().iloc[0])\n",
    "a.rename(columns={'count':'total_dados_linha'})"
   ]
  },
  {
   "cell_type": "markdown",
   "metadata": {},
   "source": [
    "### 2.3.4. Tipos de Cada Coluna"
   ]
  },
  {
   "cell_type": "code",
   "execution_count": 13,
   "metadata": {
    "colab": {
     "base_uri": "https://localhost:8080/"
    },
    "id": "JdHIuQLyQPLx",
    "outputId": "3ec4bff9-464b-4028-e928-151588098a1f"
   },
   "outputs": [
    {
     "data": {
      "text/html": [
       "<div>\n",
       "<style scoped>\n",
       "    .dataframe tbody tr th:only-of-type {\n",
       "        vertical-align: middle;\n",
       "    }\n",
       "\n",
       "    .dataframe tbody tr th {\n",
       "        vertical-align: top;\n",
       "    }\n",
       "\n",
       "    .dataframe thead th {\n",
       "        text-align: right;\n",
       "    }\n",
       "</style>\n",
       "<table border=\"1\" class=\"dataframe\">\n",
       "  <thead>\n",
       "    <tr style=\"text-align: right;\">\n",
       "      <th></th>\n",
       "      <th>Tipos</th>\n",
       "    </tr>\n",
       "  </thead>\n",
       "  <tbody>\n",
       "    <tr>\n",
       "      <th>id_passageiro</th>\n",
       "      <td>int64</td>\n",
       "    </tr>\n",
       "    <tr>\n",
       "      <th>classe</th>\n",
       "      <td>int64</td>\n",
       "    </tr>\n",
       "    <tr>\n",
       "      <th>sobreviveu</th>\n",
       "      <td>int64</td>\n",
       "    </tr>\n",
       "    <tr>\n",
       "      <th>nome</th>\n",
       "      <td>object</td>\n",
       "    </tr>\n",
       "    <tr>\n",
       "      <th>sexo</th>\n",
       "      <td>object</td>\n",
       "    </tr>\n",
       "    <tr>\n",
       "      <th>idade</th>\n",
       "      <td>float64</td>\n",
       "    </tr>\n",
       "    <tr>\n",
       "      <th>irmaos_conjuges</th>\n",
       "      <td>int64</td>\n",
       "    </tr>\n",
       "    <tr>\n",
       "      <th>pais_filhos</th>\n",
       "      <td>int64</td>\n",
       "    </tr>\n",
       "    <tr>\n",
       "      <th>bilhete</th>\n",
       "      <td>object</td>\n",
       "    </tr>\n",
       "    <tr>\n",
       "      <th>tarifa</th>\n",
       "      <td>float64</td>\n",
       "    </tr>\n",
       "    <tr>\n",
       "      <th>cabine</th>\n",
       "      <td>object</td>\n",
       "    </tr>\n",
       "    <tr>\n",
       "      <th>embarque</th>\n",
       "      <td>object</td>\n",
       "    </tr>\n",
       "    <tr>\n",
       "      <th>bote</th>\n",
       "      <td>object</td>\n",
       "    </tr>\n",
       "    <tr>\n",
       "      <th>corpo</th>\n",
       "      <td>float64</td>\n",
       "    </tr>\n",
       "    <tr>\n",
       "      <th>destino</th>\n",
       "      <td>object</td>\n",
       "    </tr>\n",
       "  </tbody>\n",
       "</table>\n",
       "</div>"
      ],
      "text/plain": [
       "                   Tipos\n",
       "id_passageiro      int64\n",
       "classe             int64\n",
       "sobreviveu         int64\n",
       "nome              object\n",
       "sexo              object\n",
       "idade            float64\n",
       "irmaos_conjuges    int64\n",
       "pais_filhos        int64\n",
       "bilhete           object\n",
       "tarifa           float64\n",
       "cabine            object\n",
       "embarque          object\n",
       "bote              object\n",
       "corpo            float64\n",
       "destino           object"
      ]
     },
     "execution_count": 13,
     "metadata": {},
     "output_type": "execute_result"
    }
   ],
   "source": [
    "pd.DataFrame(dados_brutos.dtypes,columns=['Tipos'])"
   ]
  },
  {
   "cell_type": "markdown",
   "metadata": {},
   "source": [
    "### 2.3.5. Total de Dados Ausentes"
   ]
  },
  {
   "cell_type": "code",
   "execution_count": 14,
   "metadata": {
    "colab": {
     "base_uri": "https://localhost:8080/"
    },
    "id": "hye2wV8mQVvP",
    "outputId": "82ca39f5-480a-4eec-e00d-996e6033a33e"
   },
   "outputs": [
    {
     "data": {
      "text/html": [
       "<style  type=\"text/css\" >\n",
       "#T_a89c1_row15_col0{\n",
       "            background-color:  yellow;\n",
       "        }</style><table id=\"T_a89c1_\" ><thead>    <tr>        <th class=\"blank level0\" ></th>        <th class=\"col_heading level0 col0\" >Valores_nulos</th>    </tr></thead><tbody>\n",
       "                <tr>\n",
       "                        <th id=\"T_a89c1_level0_row0\" class=\"row_heading level0 row0\" >id_passageiro</th>\n",
       "                        <td id=\"T_a89c1_row0_col0\" class=\"data row0 col0\" >0</td>\n",
       "            </tr>\n",
       "            <tr>\n",
       "                        <th id=\"T_a89c1_level0_row1\" class=\"row_heading level0 row1\" >classe</th>\n",
       "                        <td id=\"T_a89c1_row1_col0\" class=\"data row1 col0\" >0</td>\n",
       "            </tr>\n",
       "            <tr>\n",
       "                        <th id=\"T_a89c1_level0_row2\" class=\"row_heading level0 row2\" >sobreviveu</th>\n",
       "                        <td id=\"T_a89c1_row2_col0\" class=\"data row2 col0\" >0</td>\n",
       "            </tr>\n",
       "            <tr>\n",
       "                        <th id=\"T_a89c1_level0_row3\" class=\"row_heading level0 row3\" >nome</th>\n",
       "                        <td id=\"T_a89c1_row3_col0\" class=\"data row3 col0\" >0</td>\n",
       "            </tr>\n",
       "            <tr>\n",
       "                        <th id=\"T_a89c1_level0_row4\" class=\"row_heading level0 row4\" >sexo</th>\n",
       "                        <td id=\"T_a89c1_row4_col0\" class=\"data row4 col0\" >0</td>\n",
       "            </tr>\n",
       "            <tr>\n",
       "                        <th id=\"T_a89c1_level0_row5\" class=\"row_heading level0 row5\" >idade</th>\n",
       "                        <td id=\"T_a89c1_row5_col0\" class=\"data row5 col0\" >263</td>\n",
       "            </tr>\n",
       "            <tr>\n",
       "                        <th id=\"T_a89c1_level0_row6\" class=\"row_heading level0 row6\" >irmaos_conjuges</th>\n",
       "                        <td id=\"T_a89c1_row6_col0\" class=\"data row6 col0\" >0</td>\n",
       "            </tr>\n",
       "            <tr>\n",
       "                        <th id=\"T_a89c1_level0_row7\" class=\"row_heading level0 row7\" >pais_filhos</th>\n",
       "                        <td id=\"T_a89c1_row7_col0\" class=\"data row7 col0\" >0</td>\n",
       "            </tr>\n",
       "            <tr>\n",
       "                        <th id=\"T_a89c1_level0_row8\" class=\"row_heading level0 row8\" >bilhete</th>\n",
       "                        <td id=\"T_a89c1_row8_col0\" class=\"data row8 col0\" >0</td>\n",
       "            </tr>\n",
       "            <tr>\n",
       "                        <th id=\"T_a89c1_level0_row9\" class=\"row_heading level0 row9\" >tarifa</th>\n",
       "                        <td id=\"T_a89c1_row9_col0\" class=\"data row9 col0\" >1</td>\n",
       "            </tr>\n",
       "            <tr>\n",
       "                        <th id=\"T_a89c1_level0_row10\" class=\"row_heading level0 row10\" >cabine</th>\n",
       "                        <td id=\"T_a89c1_row10_col0\" class=\"data row10 col0\" >1014</td>\n",
       "            </tr>\n",
       "            <tr>\n",
       "                        <th id=\"T_a89c1_level0_row11\" class=\"row_heading level0 row11\" >embarque</th>\n",
       "                        <td id=\"T_a89c1_row11_col0\" class=\"data row11 col0\" >2</td>\n",
       "            </tr>\n",
       "            <tr>\n",
       "                        <th id=\"T_a89c1_level0_row12\" class=\"row_heading level0 row12\" >bote</th>\n",
       "                        <td id=\"T_a89c1_row12_col0\" class=\"data row12 col0\" >823</td>\n",
       "            </tr>\n",
       "            <tr>\n",
       "                        <th id=\"T_a89c1_level0_row13\" class=\"row_heading level0 row13\" >corpo</th>\n",
       "                        <td id=\"T_a89c1_row13_col0\" class=\"data row13 col0\" >1188</td>\n",
       "            </tr>\n",
       "            <tr>\n",
       "                        <th id=\"T_a89c1_level0_row14\" class=\"row_heading level0 row14\" >destino</th>\n",
       "                        <td id=\"T_a89c1_row14_col0\" class=\"data row14 col0\" >564</td>\n",
       "            </tr>\n",
       "            <tr>\n",
       "                        <th id=\"T_a89c1_level0_row15\" class=\"row_heading level0 row15\" >TOTAL:</th>\n",
       "                        <td id=\"T_a89c1_row15_col0\" class=\"data row15 col0\" >3855</td>\n",
       "            </tr>\n",
       "    </tbody></table>"
      ],
      "text/plain": [
       "<pandas.io.formats.style.Styler at 0x266ac6f5580>"
      ]
     },
     "execution_count": 14,
     "metadata": {},
     "output_type": "execute_result"
    }
   ],
   "source": [
    "a = dados_brutos.isnull().sum()\n",
    "b = pd.Series({'TOTAL:':dados_brutos.isnull().sum().sum()})\n",
    "pd.DataFrame(a.append(b),columns=['Valores_nulos']).style.highlight_max()"
   ]
  },
  {
   "cell_type": "markdown",
   "metadata": {
    "id": "LOwYhVymUdL-"
   },
   "source": [
    "### 2.3.6 Remoção de Colunas"
   ]
  },
  {
   "cell_type": "markdown",
   "metadata": {},
   "source": [
    "###### Excluindo colunas NOME, BILHETE, CABINE, DESTINO, BOTE, CORPO"
   ]
  },
  {
   "cell_type": "code",
   "execution_count": 15,
   "metadata": {
    "id": "FN_4dYStLFqg"
   },
   "outputs": [],
   "source": [
    "df_titanic = dados_brutos.drop([\"nome\",\"bilhete\",\"cabine\",\"destino\",\"bote\",\"corpo\"], axis=1)"
   ]
  },
  {
   "cell_type": "markdown",
   "metadata": {
    "id": "HtRD3UcoMOvz"
   },
   "source": [
    "#### 2.3.3.1 Idades Ausentes\n",
    "**Para os dados ausentes da coluna `idade` será feita a substituição dos dados vazios pela média das idades na época.**"
   ]
  },
  {
   "cell_type": "code",
   "execution_count": 16,
   "metadata": {
    "colab": {
     "base_uri": "https://localhost:8080/"
    },
    "id": "XfWHDbhIFefz",
    "outputId": "05070893-2f96-4615-fe8a-f6082da0966e"
   },
   "outputs": [
    {
     "name": "stdout",
     "output_type": "stream",
     "text": [
      "Idade NaN(Entrada): 263\n",
      "Idade NaN(Saida): 0\n"
     ]
    }
   ],
   "source": [
    "print('Idade NaN(Entrada): {}'.format(df_titanic['idade'].isnull().sum()))\n",
    "df_titanic[['idade']]  = df_titanic['idade'].fillna(df_titanic['idade'].mean())\n",
    "print('Idade NaN(Saida): {}'.format(df_titanic['idade'].isnull().sum()))\n",
    "df_titanic['idade'] = df_titanic['idade'].astype(int)"
   ]
  },
  {
   "cell_type": "code",
   "execution_count": 17,
   "metadata": {
    "colab": {
     "base_uri": "https://localhost:8080/"
    },
    "id": "3O5HkvMgeal6",
    "outputId": "adf95d9d-6e00-4cd7-e0d1-e3520d8180bf"
   },
   "outputs": [
    {
     "data": {
      "text/plain": [
       "array([29,  1,  2, 30, 25, 48, 63, 39, 53, 71, 47, 18, 24, 26, 80, 50, 32,\n",
       "       36, 37, 42, 19, 35, 28, 45, 40, 58, 22, 41, 44, 59, 60, 33, 17, 11,\n",
       "       14, 49, 76, 46, 27, 64, 55, 70, 38, 51, 31,  4, 54, 23, 43, 52, 16,\n",
       "       21, 15, 65, 56, 13, 61, 34,  6, 57, 62, 67, 12, 20,  8,  7,  3,  5,\n",
       "       66,  9,  0, 10, 74])"
      ]
     },
     "execution_count": 17,
     "metadata": {},
     "output_type": "execute_result"
    }
   ],
   "source": [
    "df_titanic['idade'].unique()"
   ]
  },
  {
   "cell_type": "markdown",
   "metadata": {
    "id": "5KR6X3D_MYsW"
   },
   "source": [
    "#### 2.3.3.2 Tarifas Ausentes\n",
    "**Para os dados ausentes da coluna** `tarifa` **será feita a substituição dos dados vazios pela média de preço das tarifas na época.**"
   ]
  },
  {
   "cell_type": "code",
   "execution_count": 18,
   "metadata": {
    "colab": {
     "base_uri": "https://localhost:8080/",
     "height": 0
    },
    "id": "hNQjagkeF2AO",
    "outputId": "1ba0f836-899d-46d1-9827-086c95aa01ec",
    "scrolled": true
   },
   "outputs": [
    {
     "data": {
      "text/html": [
       "<div>\n",
       "<style scoped>\n",
       "    .dataframe tbody tr th:only-of-type {\n",
       "        vertical-align: middle;\n",
       "    }\n",
       "\n",
       "    .dataframe tbody tr th {\n",
       "        vertical-align: top;\n",
       "    }\n",
       "\n",
       "    .dataframe thead th {\n",
       "        text-align: right;\n",
       "    }\n",
       "</style>\n",
       "<table border=\"1\" class=\"dataframe\">\n",
       "  <thead>\n",
       "    <tr style=\"text-align: right;\">\n",
       "      <th></th>\n",
       "      <th>id_passageiro</th>\n",
       "      <th>classe</th>\n",
       "      <th>sobreviveu</th>\n",
       "      <th>sexo</th>\n",
       "      <th>idade</th>\n",
       "      <th>irmaos_conjuges</th>\n",
       "      <th>pais_filhos</th>\n",
       "      <th>tarifa</th>\n",
       "      <th>embarque</th>\n",
       "    </tr>\n",
       "  </thead>\n",
       "  <tbody>\n",
       "    <tr>\n",
       "      <th>1225</th>\n",
       "      <td>1226</td>\n",
       "      <td>3</td>\n",
       "      <td>0</td>\n",
       "      <td>male</td>\n",
       "      <td>61</td>\n",
       "      <td>0</td>\n",
       "      <td>0</td>\n",
       "      <td>NaN</td>\n",
       "      <td>S</td>\n",
       "    </tr>\n",
       "  </tbody>\n",
       "</table>\n",
       "</div>"
      ],
      "text/plain": [
       "      id_passageiro  classe  sobreviveu  sexo  idade  irmaos_conjuges  \\\n",
       "1225           1226       3           0  male     61                0   \n",
       "\n",
       "      pais_filhos  tarifa embarque  \n",
       "1225            0     NaN        S  "
      ]
     },
     "execution_count": 18,
     "metadata": {},
     "output_type": "execute_result"
    }
   ],
   "source": [
    "df_titanic.loc[df_titanic['tarifa'].isnull()]"
   ]
  },
  {
   "cell_type": "code",
   "execution_count": 19,
   "metadata": {
    "colab": {
     "base_uri": "https://localhost:8080/"
    },
    "id": "BLvhKPHAGdTI",
    "outputId": "6dcb2923-2710-43e9-df30-75ed1cd54079"
   },
   "outputs": [],
   "source": [
    "#Verficando passageiros com tarifa Nula, tratando com a média entre passageiros com mesmo perfil\n",
    "tarifas = df_titanic[(df_titanic['classe'] == 3)  & (df_titanic['sexo'] == 'male') & (df_titanic['idade'] >= 50) & (df_titanic['irmaos_conjuges'] == 0)  & (df_titanic['embarque'] == 'S')]\n",
    "df_titanic['tarifa'] = df_titanic['tarifa'].fillna(tarifas['tarifa'].mean())"
   ]
  },
  {
   "cell_type": "code",
   "execution_count": 20,
   "metadata": {
    "id": "B1L0nNtPHKUi"
   },
   "outputs": [
    {
     "data": {
      "text/html": [
       "<div>\n",
       "<style scoped>\n",
       "    .dataframe tbody tr th:only-of-type {\n",
       "        vertical-align: middle;\n",
       "    }\n",
       "\n",
       "    .dataframe tbody tr th {\n",
       "        vertical-align: top;\n",
       "    }\n",
       "\n",
       "    .dataframe thead th {\n",
       "        text-align: right;\n",
       "    }\n",
       "</style>\n",
       "<table border=\"1\" class=\"dataframe\">\n",
       "  <thead>\n",
       "    <tr style=\"text-align: right;\">\n",
       "      <th></th>\n",
       "      <th>id_passageiro</th>\n",
       "      <th>classe</th>\n",
       "      <th>sobreviveu</th>\n",
       "      <th>sexo</th>\n",
       "      <th>idade</th>\n",
       "      <th>irmaos_conjuges</th>\n",
       "      <th>pais_filhos</th>\n",
       "      <th>tarifa</th>\n",
       "      <th>embarque</th>\n",
       "    </tr>\n",
       "  </thead>\n",
       "  <tbody>\n",
       "    <tr>\n",
       "      <th>1224</th>\n",
       "      <td>1225</td>\n",
       "      <td>3</td>\n",
       "      <td>0</td>\n",
       "      <td>male</td>\n",
       "      <td>21</td>\n",
       "      <td>0</td>\n",
       "      <td>0</td>\n",
       "      <td>8.05</td>\n",
       "      <td>S</td>\n",
       "    </tr>\n",
       "  </tbody>\n",
       "</table>\n",
       "</div>"
      ],
      "text/plain": [
       "      id_passageiro  classe  sobreviveu  sexo  idade  irmaos_conjuges  \\\n",
       "1224           1225       3           0  male     21                0   \n",
       "\n",
       "      pais_filhos  tarifa embarque  \n",
       "1224            0    8.05        S  "
      ]
     },
     "execution_count": 20,
     "metadata": {},
     "output_type": "execute_result"
    }
   ],
   "source": [
    "df_titanic.loc[df_titanic['id_passageiro'] == 1225]"
   ]
  },
  {
   "cell_type": "markdown",
   "metadata": {
    "id": "S5TkyORLRmxu"
   },
   "source": [
    "#### 2.3.3.3 Portos de Embarque Ausentes\n",
    "**Para os dados ausentes da coluna `embarque` será feita a remoção dos dados vazios.**"
   ]
  },
  {
   "cell_type": "code",
   "execution_count": 21,
   "metadata": {
    "id": "z9JGDetwRoNq"
   },
   "outputs": [],
   "source": [
    "#Excluindo embarques com NaN\n",
    "df_titanic = df_titanic[df_titanic['embarque'].notna()]"
   ]
  },
  {
   "cell_type": "markdown",
   "metadata": {
    "id": "ii85K6h9hX0P"
   },
   "source": [
    "#### Dados Ausentes"
   ]
  },
  {
   "cell_type": "code",
   "execution_count": 22,
   "metadata": {
    "colab": {
     "base_uri": "https://localhost:8080/"
    },
    "id": "jOGAb8EPhcsZ",
    "outputId": "072fb559-695e-4383-aae1-16030d73a6fa"
   },
   "outputs": [
    {
     "data": {
      "text/html": [
       "<div>\n",
       "<style scoped>\n",
       "    .dataframe tbody tr th:only-of-type {\n",
       "        vertical-align: middle;\n",
       "    }\n",
       "\n",
       "    .dataframe tbody tr th {\n",
       "        vertical-align: top;\n",
       "    }\n",
       "\n",
       "    .dataframe thead th {\n",
       "        text-align: right;\n",
       "    }\n",
       "</style>\n",
       "<table border=\"1\" class=\"dataframe\">\n",
       "  <thead>\n",
       "    <tr style=\"text-align: right;\">\n",
       "      <th></th>\n",
       "      <th>Valores_nulos</th>\n",
       "    </tr>\n",
       "  </thead>\n",
       "  <tbody>\n",
       "    <tr>\n",
       "      <th>id_passageiro</th>\n",
       "      <td>0</td>\n",
       "    </tr>\n",
       "    <tr>\n",
       "      <th>classe</th>\n",
       "      <td>0</td>\n",
       "    </tr>\n",
       "    <tr>\n",
       "      <th>sobreviveu</th>\n",
       "      <td>0</td>\n",
       "    </tr>\n",
       "    <tr>\n",
       "      <th>sexo</th>\n",
       "      <td>0</td>\n",
       "    </tr>\n",
       "    <tr>\n",
       "      <th>idade</th>\n",
       "      <td>0</td>\n",
       "    </tr>\n",
       "    <tr>\n",
       "      <th>irmaos_conjuges</th>\n",
       "      <td>0</td>\n",
       "    </tr>\n",
       "    <tr>\n",
       "      <th>pais_filhos</th>\n",
       "      <td>0</td>\n",
       "    </tr>\n",
       "    <tr>\n",
       "      <th>tarifa</th>\n",
       "      <td>0</td>\n",
       "    </tr>\n",
       "    <tr>\n",
       "      <th>embarque</th>\n",
       "      <td>0</td>\n",
       "    </tr>\n",
       "    <tr>\n",
       "      <th>TOTAL:</th>\n",
       "      <td>0</td>\n",
       "    </tr>\n",
       "  </tbody>\n",
       "</table>\n",
       "</div>"
      ],
      "text/plain": [
       "                 Valores_nulos\n",
       "id_passageiro                0\n",
       "classe                       0\n",
       "sobreviveu                   0\n",
       "sexo                         0\n",
       "idade                        0\n",
       "irmaos_conjuges              0\n",
       "pais_filhos                  0\n",
       "tarifa                       0\n",
       "embarque                     0\n",
       "TOTAL:                       0"
      ]
     },
     "execution_count": 22,
     "metadata": {},
     "output_type": "execute_result"
    }
   ],
   "source": [
    "a = df_titanic.isnull().sum()\n",
    "b = pd.Series({'TOTAL:':df_titanic.isnull().sum().sum()})\n",
    "pd.DataFrame(a.append(b),columns=['Valores_nulos'])"
   ]
  },
  {
   "cell_type": "markdown",
   "metadata": {},
   "source": [
    "### 2.3.7 Convertendo Tipos"
   ]
  },
  {
   "cell_type": "code",
   "execution_count": null,
   "metadata": {},
   "outputs": [],
   "source": []
  },
  {
   "cell_type": "markdown",
   "metadata": {
    "id": "Pd5AW6Bah1MH"
   },
   "source": [
    "## 2.4 Mapeamento de Dados\n",
    "**Para melhorar a análise e interpretação dos dados os seguintes atributos serão modificados:**"
   ]
  },
  {
   "cell_type": "markdown",
   "metadata": {},
   "source": [
    "| Coluna | Original | Modificado |   \n",
    "|---------|--------|--------|\n",
    "|Classe\t|1, 2, 3\t|Alta, Média, Baixa|\n",
    "|Sexo\t|male, female|\tM, F|\n",
    "|Embarque\t|C, Q, S\t|Cherbourg, Queenstown, Southampton|"
   ]
  },
  {
   "cell_type": "code",
   "execution_count": 24,
   "metadata": {},
   "outputs": [],
   "source": [
    "df_titanic['classe']=df_titanic['classe'].map({1:'Alta',2:'Média',3:'Baixa'})\n",
    "df_titanic['sexo']=df_titanic['sexo'].map({'male':'M','female':'F'})\n",
    "df_titanic['embarque']=df_titanic['embarque'].map({'C':'Cherbourg','Q':'Queenstown','S':'Southampton'})"
   ]
  },
  {
   "cell_type": "code",
   "execution_count": 25,
   "metadata": {
    "colab": {
     "base_uri": "https://localhost:8080/",
     "height": 363
    },
    "id": "xt5iGAlXnR3f",
    "outputId": "e83a1134-7be1-44fc-a2a3-ed05e3427b15"
   },
   "outputs": [
    {
     "data": {
      "text/html": [
       "<div>\n",
       "<style scoped>\n",
       "    .dataframe tbody tr th:only-of-type {\n",
       "        vertical-align: middle;\n",
       "    }\n",
       "\n",
       "    .dataframe tbody tr th {\n",
       "        vertical-align: top;\n",
       "    }\n",
       "\n",
       "    .dataframe thead th {\n",
       "        text-align: right;\n",
       "    }\n",
       "</style>\n",
       "<table border=\"1\" class=\"dataframe\">\n",
       "  <thead>\n",
       "    <tr style=\"text-align: right;\">\n",
       "      <th></th>\n",
       "      <th>classe</th>\n",
       "      <th>sexo</th>\n",
       "      <th>embarque</th>\n",
       "    </tr>\n",
       "  </thead>\n",
       "  <tbody>\n",
       "    <tr>\n",
       "      <th>630</th>\n",
       "      <td>Baixa</td>\n",
       "      <td>M</td>\n",
       "      <td>Southampton</td>\n",
       "    </tr>\n",
       "    <tr>\n",
       "      <th>989</th>\n",
       "      <td>Baixa</td>\n",
       "      <td>M</td>\n",
       "      <td>Southampton</td>\n",
       "    </tr>\n",
       "    <tr>\n",
       "      <th>606</th>\n",
       "      <td>Baixa</td>\n",
       "      <td>M</td>\n",
       "      <td>Southampton</td>\n",
       "    </tr>\n",
       "    <tr>\n",
       "      <th>59</th>\n",
       "      <td>Alta</td>\n",
       "      <td>F</td>\n",
       "      <td>Cherbourg</td>\n",
       "    </tr>\n",
       "    <tr>\n",
       "      <th>1203</th>\n",
       "      <td>Baixa</td>\n",
       "      <td>M</td>\n",
       "      <td>Southampton</td>\n",
       "    </tr>\n",
       "    <tr>\n",
       "      <th>1217</th>\n",
       "      <td>Baixa</td>\n",
       "      <td>M</td>\n",
       "      <td>Southampton</td>\n",
       "    </tr>\n",
       "    <tr>\n",
       "      <th>47</th>\n",
       "      <td>Alta</td>\n",
       "      <td>M</td>\n",
       "      <td>Southampton</td>\n",
       "    </tr>\n",
       "    <tr>\n",
       "      <th>997</th>\n",
       "      <td>Baixa</td>\n",
       "      <td>F</td>\n",
       "      <td>Cherbourg</td>\n",
       "    </tr>\n",
       "    <tr>\n",
       "      <th>1250</th>\n",
       "      <td>Baixa</td>\n",
       "      <td>M</td>\n",
       "      <td>Southampton</td>\n",
       "    </tr>\n",
       "    <tr>\n",
       "      <th>1128</th>\n",
       "      <td>Baixa</td>\n",
       "      <td>M</td>\n",
       "      <td>Southampton</td>\n",
       "    </tr>\n",
       "  </tbody>\n",
       "</table>\n",
       "</div>"
      ],
      "text/plain": [
       "     classe sexo     embarque\n",
       "630   Baixa    M  Southampton\n",
       "989   Baixa    M  Southampton\n",
       "606   Baixa    M  Southampton\n",
       "59     Alta    F    Cherbourg\n",
       "1203  Baixa    M  Southampton\n",
       "1217  Baixa    M  Southampton\n",
       "47     Alta    M  Southampton\n",
       "997   Baixa    F    Cherbourg\n",
       "1250  Baixa    M  Southampton\n",
       "1128  Baixa    M  Southampton"
      ]
     },
     "execution_count": 25,
     "metadata": {},
     "output_type": "execute_result"
    }
   ],
   "source": [
    "df_titanic.loc[:,['classe','sexo','embarque']].sample(10)"
   ]
  },
  {
   "cell_type": "markdown",
   "metadata": {
    "id": "n6y7CW86ooX7"
   },
   "source": [
    "## 2.5. Feature Engineering"
   ]
  },
  {
   "cell_type": "markdown",
   "metadata": {},
   "source": [
    "| Coluna | Descrição |   \n",
    "|---------|--------|\n",
    "| total_parentes   | Número total de parentes a bordo: `irmaos_conjuges + pais_filhos` |\n",
    "| faixa_etaria   | Intervalo de idades dos passageiros. |"
   ]
  },
  {
   "cell_type": "markdown",
   "metadata": {},
   "source": [
    "### 2.5.1 Total de Parentes"
   ]
  },
  {
   "cell_type": "code",
   "execution_count": 26,
   "metadata": {
    "id": "LXO366VHorEG"
   },
   "outputs": [],
   "source": [
    "df_titanic['total_parentes'] = df_titanic['irmaos_conjuges'] + df_titanic['pais_filhos']"
   ]
  },
  {
   "cell_type": "code",
   "execution_count": 63,
   "metadata": {
    "colab": {
     "base_uri": "https://localhost:8080/"
    },
    "id": "ND5dYpuHg_7h",
    "outputId": "be0ed35d-19be-4705-a1b1-4499970787dd"
   },
   "outputs": [
    {
     "data": {
      "text/html": [
       "<div>\n",
       "<style scoped>\n",
       "    .dataframe tbody tr th:only-of-type {\n",
       "        vertical-align: middle;\n",
       "    }\n",
       "\n",
       "    .dataframe tbody tr th {\n",
       "        vertical-align: top;\n",
       "    }\n",
       "\n",
       "    .dataframe thead th {\n",
       "        text-align: right;\n",
       "    }\n",
       "</style>\n",
       "<table border=\"1\" class=\"dataframe\">\n",
       "  <thead>\n",
       "    <tr style=\"text-align: right;\">\n",
       "      <th></th>\n",
       "      <th>total_parentes</th>\n",
       "    </tr>\n",
       "  </thead>\n",
       "  <tbody>\n",
       "    <tr>\n",
       "      <th>0</th>\n",
       "      <td>0</td>\n",
       "    </tr>\n",
       "    <tr>\n",
       "      <th>1</th>\n",
       "      <td>3</td>\n",
       "    </tr>\n",
       "    <tr>\n",
       "      <th>2</th>\n",
       "      <td>3</td>\n",
       "    </tr>\n",
       "    <tr>\n",
       "      <th>3</th>\n",
       "      <td>3</td>\n",
       "    </tr>\n",
       "    <tr>\n",
       "      <th>4</th>\n",
       "      <td>3</td>\n",
       "    </tr>\n",
       "    <tr>\n",
       "      <th>...</th>\n",
       "      <td>...</td>\n",
       "    </tr>\n",
       "    <tr>\n",
       "      <th>1304</th>\n",
       "      <td>1</td>\n",
       "    </tr>\n",
       "    <tr>\n",
       "      <th>1305</th>\n",
       "      <td>1</td>\n",
       "    </tr>\n",
       "    <tr>\n",
       "      <th>1306</th>\n",
       "      <td>0</td>\n",
       "    </tr>\n",
       "    <tr>\n",
       "      <th>1307</th>\n",
       "      <td>0</td>\n",
       "    </tr>\n",
       "    <tr>\n",
       "      <th>1308</th>\n",
       "      <td>0</td>\n",
       "    </tr>\n",
       "  </tbody>\n",
       "</table>\n",
       "<p>1307 rows × 1 columns</p>\n",
       "</div>"
      ],
      "text/plain": [
       "      total_parentes\n",
       "0                  0\n",
       "1                  3\n",
       "2                  3\n",
       "3                  3\n",
       "4                  3\n",
       "...              ...\n",
       "1304               1\n",
       "1305               1\n",
       "1306               0\n",
       "1307               0\n",
       "1308               0\n",
       "\n",
       "[1307 rows x 1 columns]"
      ]
     },
     "execution_count": 63,
     "metadata": {},
     "output_type": "execute_result"
    }
   ],
   "source": [
    "df_titanic.loc[:,['total_parentes']]"
   ]
  },
  {
   "cell_type": "markdown",
   "metadata": {
    "id": "MBNxzjT8g5Ws"
   },
   "source": [
    "### 2.5.2 Faixas Etárias"
   ]
  },
  {
   "cell_type": "code",
   "execution_count": 45,
   "metadata": {},
   "outputs": [
    {
     "name": "stderr",
     "output_type": "stream",
     "text": [
      "<ipython-input-45-76b884257812>:2: SettingWithCopyWarning: \n",
      "A value is trying to be set on a copy of a slice from a DataFrame\n",
      "\n",
      "See the caveats in the documentation: https://pandas.pydata.org/pandas-docs/stable/user_guide/indexing.html#returning-a-view-versus-a-copy\n",
      "  df_titanic['faixa_etaria'][df_titanic.idade <= 12] = \"Criança\"\n"
     ]
    }
   ],
   "source": [
    "df_titanic['faixa_etaria'] = df_titanic['idade']\n",
    "df_titanic['faixa_etaria'][df_titanic.idade <= 12] = \"Criança\"\n",
    "df_titanic['faixa_etaria'][(df_titanic.idade > 12) & (df.idade < 18)] = \"Adolescente\"\n",
    "df_titanic['faixa_etaria'][(df_titanic.idade >= 18) & (df.idade < 60)] = \"Adulto\"\n",
    "df_titanic['faixa_etaria'][df_titanic.idade > 18] = \"Idoso\""
   ]
  },
  {
   "cell_type": "code",
   "execution_count": 62,
   "metadata": {},
   "outputs": [
    {
     "name": "stdout",
     "output_type": "stream",
     "text": [
      "0           Idoso\n",
      "1         Criança\n",
      "11         Adulto\n",
      "53    Adolescente\n",
      "Name: faixa_etaria, dtype: object\n"
     ]
    },
    {
     "data": {
      "text/html": [
       "<div>\n",
       "<style scoped>\n",
       "    .dataframe tbody tr th:only-of-type {\n",
       "        vertical-align: middle;\n",
       "    }\n",
       "\n",
       "    .dataframe tbody tr th {\n",
       "        vertical-align: top;\n",
       "    }\n",
       "\n",
       "    .dataframe thead th {\n",
       "        text-align: right;\n",
       "    }\n",
       "</style>\n",
       "<table border=\"1\" class=\"dataframe\">\n",
       "  <thead>\n",
       "    <tr style=\"text-align: right;\">\n",
       "      <th></th>\n",
       "      <th>faixa_etaria</th>\n",
       "    </tr>\n",
       "  </thead>\n",
       "  <tbody>\n",
       "    <tr>\n",
       "      <th>0</th>\n",
       "      <td>Idoso</td>\n",
       "    </tr>\n",
       "    <tr>\n",
       "      <th>1</th>\n",
       "      <td>Criança</td>\n",
       "    </tr>\n",
       "    <tr>\n",
       "      <th>2</th>\n",
       "      <td>Criança</td>\n",
       "    </tr>\n",
       "    <tr>\n",
       "      <th>3</th>\n",
       "      <td>Idoso</td>\n",
       "    </tr>\n",
       "    <tr>\n",
       "      <th>4</th>\n",
       "      <td>Idoso</td>\n",
       "    </tr>\n",
       "    <tr>\n",
       "      <th>...</th>\n",
       "      <td>...</td>\n",
       "    </tr>\n",
       "    <tr>\n",
       "      <th>1304</th>\n",
       "      <td>Adolescente</td>\n",
       "    </tr>\n",
       "    <tr>\n",
       "      <th>1305</th>\n",
       "      <td>Idoso</td>\n",
       "    </tr>\n",
       "    <tr>\n",
       "      <th>1306</th>\n",
       "      <td>Idoso</td>\n",
       "    </tr>\n",
       "    <tr>\n",
       "      <th>1307</th>\n",
       "      <td>Idoso</td>\n",
       "    </tr>\n",
       "    <tr>\n",
       "      <th>1308</th>\n",
       "      <td>Idoso</td>\n",
       "    </tr>\n",
       "  </tbody>\n",
       "</table>\n",
       "<p>1307 rows × 1 columns</p>\n",
       "</div>"
      ],
      "text/plain": [
       "     faixa_etaria\n",
       "0           Idoso\n",
       "1         Criança\n",
       "2         Criança\n",
       "3           Idoso\n",
       "4           Idoso\n",
       "...           ...\n",
       "1304  Adolescente\n",
       "1305        Idoso\n",
       "1306        Idoso\n",
       "1307        Idoso\n",
       "1308        Idoso\n",
       "\n",
       "[1307 rows x 1 columns]"
      ]
     },
     "execution_count": 62,
     "metadata": {},
     "output_type": "execute_result"
    }
   ],
   "source": [
    "print(df_titanic.faixa_etaria.drop_duplicates())\n",
    "df_titanic.loc[:,['faixa_etaria']]"
   ]
  },
  {
   "cell_type": "markdown",
   "metadata": {
    "id": "fxU0O4gJhVin"
   },
   "source": [
    "# 3. Análise dos Dados"
   ]
  },
  {
   "cell_type": "markdown",
   "metadata": {
    "id": "v_theux5qAOV"
   },
   "source": [
    "### funções"
   ]
  },
  {
   "cell_type": "code",
   "execution_count": 571,
   "metadata": {
    "id": "Nzqy90kBSsfx"
   },
   "outputs": [],
   "source": [
    "def pcm(grupamento,total):\n",
    "    a = str(round(grupamento*100/total,2))\n",
    "    a = a+'%'\n",
    "    return a\n",
    "def consulta(orientacao):\n",
    "    grupamento = []\n",
    "    grupamento.append(df_titanic[orientacao].loc[df_titanic['sobreviveu'] == 1].value_counts())\n",
    "    grupamento[0].rename('sobreviventes',axis=1, inplace= True)\n",
    "    grupamento.append(df_titanic[orientacao].value_counts())\n",
    "    grupamento[1].rename('Total_Pessoas',axis=1, inplace= True)\n",
    "    return grupamento\n",
    "def printt(todos,sobreviventes,s1):\n",
    "    h_m = pd.concat([todos,sobreviventes,s1],axis=1).sort_values(by='Percentual')\n",
    "    return h_m"
   ]
  },
  {
   "cell_type": "markdown",
   "metadata": {
    "id": "wBbh2ygnhq17"
   },
   "source": [
    "## 3.1. Qual é o número de Sobreviventes?"
   ]
  },
  {
   "cell_type": "code",
   "execution_count": 572,
   "metadata": {
    "colab": {
     "base_uri": "https://localhost:8080/",
     "height": 143
    },
    "id": "cll5mUjPLbvj",
    "outputId": "ef6a95bb-29e8-4c25-992f-31564c0d2525"
   },
   "outputs": [
    {
     "data": {
      "text/html": [
       "<style  type=\"text/css\" >\n",
       "</style><table id=\"T_f1fcd5e4_50c7_11ec_9e1a_0242ac1c0002\" class=\"dataframe\"><thead>    <tr>        <th class=\"blank level0\" ></th>        <th class=\"col_heading level0 col0\" >Pessoas</th>        <th class=\"col_heading level0 col1\" >Percentual</th>    </tr></thead><tbody>\n",
       "                <tr>\n",
       "                        <th id=\"T_f1fcd5e4_50c7_11ec_9e1a_0242ac1c0002level0_row0\" class=\"row_heading level0 row0\" >Falecidos</th>\n",
       "                        <td id=\"T_f1fcd5e4_50c7_11ec_9e1a_0242ac1c0002row0_col0\" class=\"data row0 col0\" >809</td>\n",
       "                        <td id=\"T_f1fcd5e4_50c7_11ec_9e1a_0242ac1c0002row0_col1\" class=\"data row0 col1\" >61.90%</td>\n",
       "            </tr>\n",
       "            <tr>\n",
       "                        <th id=\"T_f1fcd5e4_50c7_11ec_9e1a_0242ac1c0002level0_row1\" class=\"row_heading level0 row1\" >Sobreviventes</th>\n",
       "                        <td id=\"T_f1fcd5e4_50c7_11ec_9e1a_0242ac1c0002row1_col0\" class=\"data row1 col0\" >498</td>\n",
       "                        <td id=\"T_f1fcd5e4_50c7_11ec_9e1a_0242ac1c0002row1_col1\" class=\"data row1 col1\" >38.10%</td>\n",
       "            </tr>\n",
       "            <tr>\n",
       "                        <th id=\"T_f1fcd5e4_50c7_11ec_9e1a_0242ac1c0002level0_row2\" class=\"row_heading level0 row2\" >Total</th>\n",
       "                        <td id=\"T_f1fcd5e4_50c7_11ec_9e1a_0242ac1c0002row2_col0\" class=\"data row2 col0\" >1,307</td>\n",
       "                        <td id=\"T_f1fcd5e4_50c7_11ec_9e1a_0242ac1c0002row2_col1\" class=\"data row2 col1\" >100.00%</td>\n",
       "            </tr>\n",
       "    </tbody></table>"
      ],
      "text/plain": [
       "<pandas.io.formats.style.Styler at 0x7f7944950d10>"
      ]
     },
     "execution_count": 572,
     "metadata": {},
     "output_type": "execute_result"
    }
   ],
   "source": [
    "tabela_sobrevivente = pd.merge(left= df_titanic['sobreviveu'].value_counts(),right= df_titanic['sobreviveu'].value_counts(normalize=True),left_index=True,right_index=True)\n",
    "tabela_sobrevivente = tabela_sobrevivente.append(tabela_sobrevivente.sum(),ignore_index=True)\n",
    "tabela_sobrevivente.rename(columns={'sobreviveu_x': 'Pessoas','sobreviveu_y': 'Percentual'},index={0:'Falecidos',1:'Sobreviventes',2:'Total'}, inplace=True)\n",
    "tabela_sobrevivente.style.format({'Pessoas': '{:,.0f}','Percentual': '{:.2%}'})"
   ]
  },
  {
   "cell_type": "markdown",
   "metadata": {
    "id": "MgFCm_tKqHPf"
   },
   "source": [
    "## 3.2. Homens ou mulheres tiveram mais chances de sobreviver?"
   ]
  },
  {
   "cell_type": "code",
   "execution_count": 573,
   "metadata": {
    "colab": {
     "base_uri": "https://localhost:8080/",
     "height": 112
    },
    "id": "556bRiv3iQRm",
    "outputId": "ee2ea23f-9206-43b1-e8c2-4afec5ad3d49"
   },
   "outputs": [
    {
     "data": {
      "text/html": [
       "<div>\n",
       "<style scoped>\n",
       "    .dataframe tbody tr th:only-of-type {\n",
       "        vertical-align: middle;\n",
       "    }\n",
       "\n",
       "    .dataframe tbody tr th {\n",
       "        vertical-align: top;\n",
       "    }\n",
       "\n",
       "    .dataframe thead th {\n",
       "        text-align: right;\n",
       "    }\n",
       "</style>\n",
       "<table border=\"1\" class=\"dataframe\">\n",
       "  <thead>\n",
       "    <tr style=\"text-align: right;\">\n",
       "      <th></th>\n",
       "      <th>Total_Pessoas</th>\n",
       "      <th>sobreviventes</th>\n",
       "      <th>Percentual</th>\n",
       "    </tr>\n",
       "  </thead>\n",
       "  <tbody>\n",
       "    <tr>\n",
       "      <th>Homem</th>\n",
       "      <td>843</td>\n",
       "      <td>161</td>\n",
       "      <td>19.1%</td>\n",
       "    </tr>\n",
       "    <tr>\n",
       "      <th>Mulher</th>\n",
       "      <td>464</td>\n",
       "      <td>337</td>\n",
       "      <td>72.63%</td>\n",
       "    </tr>\n",
       "  </tbody>\n",
       "</table>\n",
       "</div>"
      ],
      "text/plain": [
       "        Total_Pessoas  sobreviventes Percentual\n",
       "Homem             843            161      19.1%\n",
       "Mulher            464            337     72.63%"
      ]
     },
     "execution_count": 573,
     "metadata": {},
     "output_type": "execute_result"
    }
   ],
   "source": [
    "grupamento = consulta('sexo')\n",
    "sobreviventes,todos = grupamento[0].sort_values(),grupamento[1]\n",
    "s1 = pd.Series([pcm(sobreviventes[0],todos[0]),pcm(sobreviventes[1],todos[1])], index=['Homem', 'Mulher'], name='Percentual')\n",
    "printt(todos,sobreviventes,s1)"
   ]
  },
  {
   "cell_type": "markdown",
   "metadata": {
    "id": "CclCDyh_smw0"
   },
   "source": [
    "## 3.3. Qual classe social teve mais sobreviventes?"
   ]
  },
  {
   "cell_type": "code",
   "execution_count": 574,
   "metadata": {
    "colab": {
     "base_uri": "https://localhost:8080/",
     "height": 143
    },
    "id": "kxySZmHxRN4G",
    "outputId": "c491878d-c4f7-4af5-b0a8-eb875d7e58ab"
   },
   "outputs": [
    {
     "data": {
      "text/html": [
       "<div>\n",
       "<style scoped>\n",
       "    .dataframe tbody tr th:only-of-type {\n",
       "        vertical-align: middle;\n",
       "    }\n",
       "\n",
       "    .dataframe tbody tr th {\n",
       "        vertical-align: top;\n",
       "    }\n",
       "\n",
       "    .dataframe thead th {\n",
       "        text-align: right;\n",
       "    }\n",
       "</style>\n",
       "<table border=\"1\" class=\"dataframe\">\n",
       "  <thead>\n",
       "    <tr style=\"text-align: right;\">\n",
       "      <th></th>\n",
       "      <th>Total_Pessoas</th>\n",
       "      <th>sobreviventes</th>\n",
       "      <th>Percentual</th>\n",
       "    </tr>\n",
       "  </thead>\n",
       "  <tbody>\n",
       "    <tr>\n",
       "      <th>Baixa</th>\n",
       "      <td>709</td>\n",
       "      <td>181</td>\n",
       "      <td>25.53%</td>\n",
       "    </tr>\n",
       "    <tr>\n",
       "      <th>Média</th>\n",
       "      <td>277</td>\n",
       "      <td>119</td>\n",
       "      <td>42.96%</td>\n",
       "    </tr>\n",
       "    <tr>\n",
       "      <th>Alta</th>\n",
       "      <td>321</td>\n",
       "      <td>198</td>\n",
       "      <td>61.68%</td>\n",
       "    </tr>\n",
       "  </tbody>\n",
       "</table>\n",
       "</div>"
      ],
      "text/plain": [
       "       Total_Pessoas  sobreviventes Percentual\n",
       "Baixa            709            181     25.53%\n",
       "Média            277            119     42.96%\n",
       "Alta             321            198     61.68%"
      ]
     },
     "execution_count": 574,
     "metadata": {},
     "output_type": "execute_result"
    }
   ],
   "source": [
    "grupamento = consulta('classe')\n",
    "sobreviventes,todos= grupamento[0],grupamento[1]\n",
    "s1 = pd.Series([pcm(sobreviventes[1],todos[0]),pcm(sobreviventes[2],todos[2]),pcm(sobreviventes[0],todos[1])], index=['Baixa', 'Média','Alta'], name='Percentual')\n",
    "printt(todos,sobreviventes,s1)"
   ]
  },
  {
   "cell_type": "markdown",
   "metadata": {
    "id": "_MQ7lJNlssoB"
   },
   "source": [
    "## 3.4. Qual faixa etária teve mais chances de sobreviver?"
   ]
  },
  {
   "cell_type": "code",
   "execution_count": 575,
   "metadata": {
    "colab": {
     "base_uri": "https://localhost:8080/",
     "height": 175
    },
    "id": "bFiz73Yexndq",
    "outputId": "4014c4f2-7dcc-4e77-bb59-080f40d83228"
   },
   "outputs": [
    {
     "data": {
      "text/html": [
       "<div>\n",
       "<style scoped>\n",
       "    .dataframe tbody tr th:only-of-type {\n",
       "        vertical-align: middle;\n",
       "    }\n",
       "\n",
       "    .dataframe tbody tr th {\n",
       "        vertical-align: top;\n",
       "    }\n",
       "\n",
       "    .dataframe thead th {\n",
       "        text-align: right;\n",
       "    }\n",
       "</style>\n",
       "<table border=\"1\" class=\"dataframe\">\n",
       "  <thead>\n",
       "    <tr style=\"text-align: right;\">\n",
       "      <th></th>\n",
       "      <th>Total_Pessoas</th>\n",
       "      <th>sobreviventes</th>\n",
       "      <th>Percentual</th>\n",
       "    </tr>\n",
       "  </thead>\n",
       "  <tbody>\n",
       "    <tr>\n",
       "      <th>Idoso</th>\n",
       "      <td>39</td>\n",
       "      <td>11</td>\n",
       "      <td>28.21%</td>\n",
       "    </tr>\n",
       "    <tr>\n",
       "      <th>Adulto</th>\n",
       "      <td>1114</td>\n",
       "      <td>406</td>\n",
       "      <td>36.45%</td>\n",
       "    </tr>\n",
       "    <tr>\n",
       "      <th>Adolecente</th>\n",
       "      <td>60</td>\n",
       "      <td>27</td>\n",
       "      <td>45.0%</td>\n",
       "    </tr>\n",
       "    <tr>\n",
       "      <th>Criança</th>\n",
       "      <td>94</td>\n",
       "      <td>54</td>\n",
       "      <td>57.45%</td>\n",
       "    </tr>\n",
       "  </tbody>\n",
       "</table>\n",
       "</div>"
      ],
      "text/plain": [
       "            Total_Pessoas  sobreviventes Percentual\n",
       "Idoso                  39             11     28.21%\n",
       "Adulto               1114            406     36.45%\n",
       "Adolecente             60             27      45.0%\n",
       "Criança                94             54     57.45%"
      ]
     },
     "execution_count": 575,
     "metadata": {},
     "output_type": "execute_result"
    }
   ],
   "source": [
    "grupamento=consulta('faixa_etaria') \n",
    "sobreviventes,todos= grupamento[0],grupamento[1]\n",
    "s1 = pd.Series([pcm(sobreviventes[0],todos[0]),pcm(sobreviventes[1],todos[1]),pcm(sobreviventes[2],todos[2]),pcm(sobreviventes[3],todos[3])], index=['Adulto', 'Criança','Adolecente','Idoso'], name='Percentual')\n",
    "printt(todos,sobreviventes,s1)"
   ]
  },
  {
   "cell_type": "markdown",
   "metadata": {
    "id": "u-7NbAn40ICj"
   },
   "source": [
    "# REFERÊNCIAS"
   ]
  },
  {
   "cell_type": "markdown",
   "metadata": {
    "id": "2lsSsOsA0PIR"
   },
   "source": [
    "\n",
    "\n",
    "*   [Titanic: Machine Learning from Disaster](https://www.kaggle.com/c/titanic/data)\n",
    "*   [Encyclopedia Titanica](https://www.encyclopedia-titanica.org/)\n",
    "*   [Basic Feature Engineering with the Titanic Data](https://triangleinequality.wordpress.com/2013/09/08/basic-feature-engineering-with-the-titanic-data/)\n",
    "*   Hind, Philip.  \\\"Encyclopedia Titanica.\\\"  Online.  Internet. n.p.  02 Aug 1999.\n",
    "\n"
   ]
  }
 ],
 "metadata": {
  "colab": {
   "collapsed_sections": [
    "P0vtl8WzEYd8",
    "V7yLDWLEOCz5",
    "pFiCGT2eOQFx",
    "2KU_gBkwKlZT",
    "_AnxPe2mVo68",
    "j1ltnPl_KpQ2",
    "IFvyXiAHK7yQ",
    "LOwYhVymUdL-",
    "yEcKMJv_Lbx1",
    "HtRD3UcoMOvz",
    "5KR6X3D_MYsW",
    "S5TkyORLRmxu",
    "ii85K6h9hX0P",
    "In5bS2nkg0UP",
    "MBNxzjT8g5Ws"
   ],
   "name": "Titanic.ipynb",
   "provenance": []
  },
  "kernelspec": {
   "display_name": "Python 3",
   "language": "python",
   "name": "python3"
  },
  "language_info": {
   "codemirror_mode": {
    "name": "ipython",
    "version": 3
   },
   "file_extension": ".py",
   "mimetype": "text/x-python",
   "name": "python",
   "nbconvert_exporter": "python",
   "pygments_lexer": "ipython3",
   "version": "3.8.8"
  }
 },
 "nbformat": 4,
 "nbformat_minor": 1
}
